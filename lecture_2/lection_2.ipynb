{
 "cells": [
  {
   "cell_type": "markdown",
   "metadata": {},
   "source": [
    "### Class example"
   ]
  },
  {
   "cell_type": "code",
   "execution_count": 1,
   "metadata": {},
   "outputs": [],
   "source": [
    "class MyFirstClass(object):\n",
    "    \"\"\"\n",
    "    This is my first class.\n",
    "    \"\"\"\n",
    "    classatribute = 99999\n",
    "\n",
    "    def __init__(self, base):\n",
    "        # self - указатель на экземпляр.\n",
    "        self.base = base\n",
    "\n",
    "    def strange_transform(self, x):\n",
    "        return str(self.base) + ' (^_^) ' + str(x)"
   ]
  },
  {
   "cell_type": "code",
   "execution_count": 2,
   "metadata": {},
   "outputs": [],
   "source": [
    "exemplar = MyFirstClass('¯\\_')"
   ]
  },
  {
   "cell_type": "code",
   "execution_count": 4,
   "metadata": {},
   "outputs": [
    {
     "data": {
      "text/plain": [
       "'¯\\\\_ (^_^) _/'"
      ]
     },
     "execution_count": 4,
     "metadata": {},
     "output_type": "execute_result"
    }
   ],
   "source": [
    "exemplar.strange_transform('_/')"
   ]
  },
  {
   "cell_type": "markdown",
   "metadata": {},
   "source": [
    "_____"
   ]
  },
  {
   "cell_type": "markdown",
   "metadata": {},
   "source": [
    "### access modificator "
   ]
  },
  {
   "cell_type": "code",
   "execution_count": 7,
   "metadata": {},
   "outputs": [],
   "source": [
    "class Foo:\n",
    "    \n",
    "    class_attribute = 'me_gusta'\n",
    "    \n",
    "    def __init__(self):\n",
    "        self.public_atr = 'login'\n",
    "        self._private_atr = 'password'\n",
    "        self.__really_private_atr = 'pin_code'\n",
    "        self.__soy_especial__ = self.class_attribute\n",
    "        "
   ]
  },
  {
   "cell_type": "code",
   "execution_count": 9,
   "metadata": {},
   "outputs": [
    {
     "name": "stdout",
     "output_type": "stream",
     "text": [
      "public: login\n",
      "private: password\n",
      "                   Тыщ. AttributeError!\n",
      "really private: pin_code\n"
     ]
    }
   ],
   "source": [
    "e = Foo()\n",
    "\n",
    "print('public:', e.public_atr)\n",
    "print('private:', e._private_atr)\n",
    "\n",
    "try:\n",
    "    print('really private:', e.__really_private_atr)\n",
    "except AttributeError:\n",
    "    print('                   Тыщ. AttributeError!')\n",
    "\n",
    "print('really private:', e._Foo__really_private_atr)"
   ]
  },
  {
   "cell_type": "code",
   "execution_count": 10,
   "metadata": {},
   "outputs": [
    {
     "ename": "AttributeError",
     "evalue": "'Foo' object has no attribute '__really_private_atr'",
     "output_type": "error",
     "traceback": [
      "\u001b[0;31m---------------------------------------------------------------------------\u001b[0m",
      "\u001b[0;31mAttributeError\u001b[0m                            Traceback (most recent call last)",
      "\u001b[0;32m<ipython-input-10-efd8c0afaa65>\u001b[0m in \u001b[0;36m<module>\u001b[0;34m()\u001b[0m\n\u001b[0;32m----> 1\u001b[0;31m \u001b[0mprint\u001b[0m\u001b[0;34m(\u001b[0m\u001b[0;34m'really private:'\u001b[0m\u001b[0;34m,\u001b[0m \u001b[0me\u001b[0m\u001b[0;34m.\u001b[0m\u001b[0m__really_private_atr\u001b[0m\u001b[0;34m)\u001b[0m\u001b[0;34m\u001b[0m\u001b[0m\n\u001b[0m\u001b[1;32m      2\u001b[0m \u001b[0;31m# приватный - не можем обратиться\u001b[0m\u001b[0;34m\u001b[0m\u001b[0;34m\u001b[0m\u001b[0m\n",
      "\u001b[0;31mAttributeError\u001b[0m: 'Foo' object has no attribute '__really_private_atr'"
     ]
    }
   ],
   "source": [
    "print('really private:', e.__really_private_atr)\n",
    "# приватный - не можем обратиться"
   ]
  },
  {
   "cell_type": "code",
   "execution_count": 11,
   "metadata": {},
   "outputs": [
    {
     "data": {
      "text/plain": [
       "'me_gusta'"
      ]
     },
     "execution_count": 11,
     "metadata": {},
     "output_type": "execute_result"
    }
   ],
   "source": [
    "e.__soy_especial__ # <- а в этом случае два подчеркивания не работает"
   ]
  },
  {
   "cell_type": "markdown",
   "metadata": {},
   "source": [
    "____"
   ]
  },
  {
   "cell_type": "markdown",
   "metadata": {},
   "source": [
    "Атрибут __dict__ есть  и у экземпляра и у класса."
   ]
  },
  {
   "cell_type": "code",
   "execution_count": 12,
   "metadata": {
    "scrolled": true
   },
   "outputs": [
    {
     "data": {
      "text/plain": [
       "{'public_atr': 'login',\n",
       " '_private_atr': 'password',\n",
       " '_Foo__really_private_atr': 'pin_code',\n",
       " '__soy_especial__': 'me_gusta'}"
      ]
     },
     "execution_count": 12,
     "metadata": {},
     "output_type": "execute_result"
    }
   ],
   "source": [
    "e.__dict__"
   ]
  },
  {
   "cell_type": "code",
   "execution_count": 1,
   "metadata": {},
   "outputs": [
    {
     "ename": "NameError",
     "evalue": "name 'Foo' is not defined",
     "output_type": "error",
     "traceback": [
      "\u001b[0;31m---------------------------------------------------------------------------\u001b[0m",
      "\u001b[0;31mNameError\u001b[0m                                 Traceback (most recent call last)",
      "\u001b[0;32m<ipython-input-1-6f896ac04e25>\u001b[0m in \u001b[0;36m<module>\u001b[0;34m()\u001b[0m\n\u001b[0;32m----> 1\u001b[0;31m \u001b[0mFoo\u001b[0m\u001b[0;34m.\u001b[0m\u001b[0m__dict__\u001b[0m\u001b[0;34m\u001b[0m\u001b[0m\n\u001b[0m",
      "\u001b[0;31mNameError\u001b[0m: name 'Foo' is not defined"
     ]
    }
   ],
   "source": [
    "Foo.__dict__"
   ]
  },
  {
   "cell_type": "raw",
   "metadata": {},
   "source": [
    "у объекта есть __dict__, в нем хранятся его атрибуты\n",
    "При этом мы на лету можем менять внутреннее состояние объекта"
   ]
  },
  {
   "cell_type": "markdown",
   "metadata": {},
   "source": [
    "#### Вопрос к аудитории"
   ]
  },
  {
   "cell_type": "code",
   "execution_count": 259,
   "metadata": {
    "collapsed": true
   },
   "outputs": [],
   "source": [
    "class MyFirstClass(object):\n",
    "    \"\"\"\n",
    "    This is my first class.\n",
    "    \"\"\"\n",
    "    classatribute = 99999\n",
    "\n",
    "    def __init__(self, base):\n",
    "        # self - указатель на экземпляр.\n",
    "        self.base = base\n",
    "\n",
    "    def strange_transform(self, x):\n",
    "        return str(self.base) + ' (^_^) ' + str(x)\n",
    "\n",
    "exemplar = MyFirstClass('¯\\_')"
   ]
  },
  {
   "cell_type": "code",
   "execution_count": 14,
   "metadata": {},
   "outputs": [
    {
     "data": {
      "text/plain": [
       "{'base': '¯\\\\_'}"
      ]
     },
     "execution_count": 14,
     "metadata": {},
     "output_type": "execute_result"
    }
   ],
   "source": [
    "exemplar.__dict__"
   ]
  },
  {
   "cell_type": "code",
   "execution_count": 15,
   "metadata": {
    "scrolled": false
   },
   "outputs": [
    {
     "data": {
      "text/plain": [
       "['__class__',\n",
       " '__delattr__',\n",
       " '__dict__',\n",
       " '__dir__',\n",
       " '__doc__',\n",
       " '__eq__',\n",
       " '__format__',\n",
       " '__ge__',\n",
       " '__getattribute__',\n",
       " '__gt__',\n",
       " '__hash__',\n",
       " '__init__',\n",
       " '__init_subclass__',\n",
       " '__le__',\n",
       " '__lt__',\n",
       " '__module__',\n",
       " '__ne__',\n",
       " '__new__',\n",
       " '__reduce__',\n",
       " '__reduce_ex__',\n",
       " '__repr__',\n",
       " '__setattr__',\n",
       " '__sizeof__',\n",
       " '__str__',\n",
       " '__subclasshook__',\n",
       " '__weakref__',\n",
       " 'base',\n",
       " 'classatribute',\n",
       " 'strange_transform']"
      ]
     },
     "execution_count": 15,
     "metadata": {},
     "output_type": "execute_result"
    }
   ],
   "source": [
    "dir(exemplar)"
   ]
  },
  {
   "cell_type": "code",
   "execution_count": 262,
   "metadata": {
    "scrolled": true
   },
   "outputs": [
    {
     "data": {
      "text/plain": [
       "99999"
      ]
     },
     "execution_count": 262,
     "metadata": {},
     "output_type": "execute_result"
    }
   ],
   "source": [
    "exemplar.classatribute"
   ]
  },
  {
   "cell_type": "code",
   "execution_count": 16,
   "metadata": {},
   "outputs": [],
   "source": [
    "exemplar.classatribute = exemplar.classatribute + 3"
   ]
  },
  {
   "cell_type": "markdown",
   "metadata": {},
   "source": [
    "> что станет с exemplar.classatribute и с MyFirstClass.classatribute?"
   ]
  },
  {
   "cell_type": "code",
   "execution_count": 17,
   "metadata": {},
   "outputs": [
    {
     "data": {
      "text/plain": [
       "99999"
      ]
     },
     "execution_count": 17,
     "metadata": {},
     "output_type": "execute_result"
    }
   ],
   "source": [
    "MyFirstClass.classatribute"
   ]
  },
  {
   "cell_type": "code",
   "execution_count": 264,
   "metadata": {},
   "outputs": [
    {
     "data": {
      "text/plain": [
       "100002"
      ]
     },
     "execution_count": 264,
     "metadata": {},
     "output_type": "execute_result"
    }
   ],
   "source": [
    "exemplar.classatribute"
   ]
  },
  {
   "cell_type": "code",
   "execution_count": 267,
   "metadata": {},
   "outputs": [
    {
     "data": {
      "text/plain": [
       "True"
      ]
     },
     "execution_count": 267,
     "metadata": {},
     "output_type": "execute_result"
    }
   ],
   "source": [
    "'classatribute' in dir(exemplar)"
   ]
  },
  {
   "cell_type": "code",
   "execution_count": 268,
   "metadata": {},
   "outputs": [
    {
     "data": {
      "text/plain": [
       "True"
      ]
     },
     "execution_count": 268,
     "metadata": {},
     "output_type": "execute_result"
    }
   ],
   "source": [
    "'classatribute' in exemplar.__dict__"
   ]
  },
  {
   "cell_type": "markdown",
   "metadata": {},
   "source": [
    "##### hmmmmm...."
   ]
  },
  {
   "cell_type": "code",
   "execution_count": 265,
   "metadata": {
    "scrolled": true
   },
   "outputs": [
    {
     "data": {
      "text/plain": [
       "99999"
      ]
     },
     "execution_count": 265,
     "metadata": {},
     "output_type": "execute_result"
    }
   ],
   "source": [
    "MyFirstClass.classatribute"
   ]
  },
  {
   "cell_type": "code",
   "execution_count": 266,
   "metadata": {
    "scrolled": true
   },
   "outputs": [
    {
     "data": {
      "text/plain": [
       "{'base': '¯\\\\_', 'classatribute': 100002}"
      ]
     },
     "execution_count": 266,
     "metadata": {},
     "output_type": "execute_result"
    }
   ],
   "source": [
    "exemplar.__dict__"
   ]
  },
  {
   "cell_type": "code",
   "execution_count": 243,
   "metadata": {
    "collapsed": true
   },
   "outputs": [],
   "source": [
    "# во время исполнения программы происходит динамический поиск\n",
    "exemplar.__dict__['me_gusta'] = 100502"
   ]
  },
  {
   "cell_type": "code",
   "execution_count": 244,
   "metadata": {},
   "outputs": [
    {
     "data": {
      "text/plain": [
       "{'base': '¯\\\\_', 'classatribute': 100002, 'me_gusta': 100502}"
      ]
     },
     "execution_count": 244,
     "metadata": {},
     "output_type": "execute_result"
    }
   ],
   "source": [
    "exemplar.__dict__"
   ]
  },
  {
   "cell_type": "code",
   "execution_count": 245,
   "metadata": {
    "scrolled": false
   },
   "outputs": [
    {
     "data": {
      "text/plain": [
       "100002"
      ]
     },
     "execution_count": 245,
     "metadata": {},
     "output_type": "execute_result"
    }
   ],
   "source": [
    "exemplar.__getattribute__('classatribute') \n",
    "\n",
    "# бежим в __dict__ смотрим есть ли там если есть то достаем"
   ]
  },
  {
   "cell_type": "code",
   "execution_count": 246,
   "metadata": {},
   "outputs": [
    {
     "data": {
      "text/plain": [
       "100002"
      ]
     },
     "execution_count": 246,
     "metadata": {},
     "output_type": "execute_result"
    }
   ],
   "source": [
    "getattr(exemplar, 'classatribute')"
   ]
  },
  {
   "cell_type": "code",
   "execution_count": 247,
   "metadata": {
    "collapsed": true
   },
   "outputs": [],
   "source": [
    "def pseudo_getattr(obj, atr):\n",
    "    return exemplar.__getattribute__('classatribute') "
   ]
  },
  {
   "cell_type": "code",
   "execution_count": 248,
   "metadata": {},
   "outputs": [
    {
     "data": {
      "text/plain": [
       "100002"
      ]
     },
     "execution_count": 248,
     "metadata": {},
     "output_type": "execute_result"
    }
   ],
   "source": [
    "pseudo_getattr(exemplar, 'classatribute')"
   ]
  },
  {
   "cell_type": "code",
   "execution_count": 249,
   "metadata": {
    "collapsed": true
   },
   "outputs": [],
   "source": [
    "# как же все-таки из \"покоцанного\" экземпляра получить нужное нам значение атрибута класса?"
   ]
  },
  {
   "cell_type": "code",
   "execution_count": 250,
   "metadata": {},
   "outputs": [
    {
     "data": {
      "text/plain": [
       "mappingproxy({'__dict__': <attribute '__dict__' of 'MyFirstClass' objects>,\n",
       "              '__doc__': '\\n    This is my first class.\\n    ',\n",
       "              '__init__': <function __main__.MyFirstClass.__init__>,\n",
       "              '__module__': '__main__',\n",
       "              '__weakref__': <attribute '__weakref__' of 'MyFirstClass' objects>,\n",
       "              'classatribute': 99999,\n",
       "              'strange_transform': <function __main__.MyFirstClass.strange_transform>})"
      ]
     },
     "execution_count": 250,
     "metadata": {},
     "output_type": "execute_result"
    }
   ],
   "source": [
    "exemplar.__class__.__dict__"
   ]
  },
  {
   "cell_type": "code",
   "execution_count": 251,
   "metadata": {},
   "outputs": [
    {
     "data": {
      "text/plain": [
       "99999"
      ]
     },
     "execution_count": 251,
     "metadata": {},
     "output_type": "execute_result"
    }
   ],
   "source": [
    "exemplar.__class__.classatribute"
   ]
  },
  {
   "cell_type": "markdown",
   "metadata": {},
   "source": [
    "_________"
   ]
  },
  {
   "cell_type": "markdown",
   "metadata": {},
   "source": [
    "### что внутри у объекта?"
   ]
  },
  {
   "cell_type": "code",
   "execution_count": 166,
   "metadata": {},
   "outputs": [
    {
     "data": {
      "text/plain": [
       "['__class__',\n",
       " '__delattr__',\n",
       " '__dict__',\n",
       " '__dir__',\n",
       " '__doc__',\n",
       " '__eq__',\n",
       " '__format__',\n",
       " '__ge__',\n",
       " '__getattribute__',\n",
       " '__gt__',\n",
       " '__hash__',\n",
       " '__init__',\n",
       " '__le__',\n",
       " '__lt__',\n",
       " '__module__',\n",
       " '__ne__',\n",
       " '__new__',\n",
       " '__reduce__',\n",
       " '__reduce_ex__',\n",
       " '__repr__',\n",
       " '__setattr__',\n",
       " '__sizeof__',\n",
       " '__str__',\n",
       " '__subclasshook__',\n",
       " '__weakref__',\n",
       " 'base',\n",
       " 'classatribute',\n",
       " 'strange_transform']"
      ]
     },
     "execution_count": 166,
     "metadata": {},
     "output_type": "execute_result"
    }
   ],
   "source": [
    "dir(exemplar)"
   ]
  },
  {
   "cell_type": "markdown",
   "metadata": {},
   "source": [
    "____"
   ]
  },
  {
   "cell_type": "markdown",
   "metadata": {},
   "source": [
    "Добавляем новый метод на лету в класс. и у всех его созданных и не созданных экземпляров появится эта функция.\n",
    "потому что так происходит поиск методов и атрибутов. если вызываем метод у экземпляра то сначала ищем в __dict__ экземпляра, если не нашли идем выше ( в класс ) и смотрим его __dict__"
   ]
  },
  {
   "cell_type": "code",
   "execution_count": 18,
   "metadata": {
    "scrolled": true
   },
   "outputs": [
    {
     "ename": "AttributeError",
     "evalue": "'X' object has no attribute 'wrong_method'",
     "output_type": "error",
     "traceback": [
      "\u001b[0;31m---------------------------------------------------------------------------\u001b[0m",
      "\u001b[0;31mAttributeError\u001b[0m                            Traceback (most recent call last)",
      "\u001b[0;32m<ipython-input-18-343c7cfa668f>\u001b[0m in \u001b[0;36m<module>\u001b[0;34m()\u001b[0m\n\u001b[1;32m      1\u001b[0m \u001b[0;32mclass\u001b[0m \u001b[0mX\u001b[0m\u001b[0;34m(\u001b[0m\u001b[0mobject\u001b[0m\u001b[0;34m)\u001b[0m\u001b[0;34m:\u001b[0m \u001b[0;32mpass\u001b[0m\u001b[0;34m\u001b[0m\u001b[0m\n\u001b[1;32m      2\u001b[0m \u001b[0my\u001b[0m \u001b[0;34m=\u001b[0m \u001b[0mX\u001b[0m\u001b[0;34m(\u001b[0m\u001b[0;34m)\u001b[0m\u001b[0;34m\u001b[0m\u001b[0m\n\u001b[0;32m----> 3\u001b[0;31m \u001b[0my\u001b[0m\u001b[0;34m.\u001b[0m\u001b[0mwrong_method\u001b[0m\u001b[0;34m(\u001b[0m\u001b[0;34m)\u001b[0m  \u001b[0;31m# такого метода пока нет\u001b[0m\u001b[0;34m\u001b[0m\u001b[0m\n\u001b[0m",
      "\u001b[0;31mAttributeError\u001b[0m: 'X' object has no attribute 'wrong_method'"
     ]
    }
   ],
   "source": [
    "class X(object): pass\n",
    "y = X()\n",
    "y.wrong_method()  # такого метода пока нет"
   ]
  },
  {
   "cell_type": "code",
   "execution_count": 270,
   "metadata": {},
   "outputs": [
    {
     "data": {
      "text/plain": [
       "'im here'"
      ]
     },
     "execution_count": 270,
     "metadata": {},
     "output_type": "execute_result"
    }
   ],
   "source": [
    "X.wrong_method = lambda self : 'im here' # добавим его\n",
    "y.wrong_method() \n",
    "\n",
    "# так как доступ к методу приводит к поиску по __dict__ класса,\n",
    "# то wrong_method становится доступным всем экземплярам"
   ]
  },
  {
   "cell_type": "code",
   "execution_count": 20,
   "metadata": {},
   "outputs": [
    {
     "data": {
      "text/plain": [
       "'im here'"
      ]
     },
     "execution_count": 20,
     "metadata": {},
     "output_type": "execute_result"
    }
   ],
   "source": [
    "class Z(object): pass\n",
    "z = Z()\n",
    "Z.wrong_method = lambda self : 'im here'\n",
    "z.wrong_method()"
   ]
  },
  {
   "cell_type": "markdown",
   "metadata": {},
   "source": [
    "___"
   ]
  },
  {
   "cell_type": "markdown",
   "metadata": {},
   "source": [
    "#### slot mechanism\n",
    "\n",
    "Хранить dict временами дорого. Иногда вообще не хочется чтобы в объекте создавался новый атрибут.\n",
    "Механизм слотов позволяет при объявлении класса заранее указать его атрибуты. Новые уже создать будет нельзя"
   ]
  },
  {
   "cell_type": "code",
   "execution_count": 21,
   "metadata": {},
   "outputs": [],
   "source": [
    "class BazAr():\n",
    "    \n",
    "    __slots__ = ['abaz']\n",
    "    \n",
    "    def __init__(self, props):\n",
    "        self.abaz = props\n",
    "        self.coco = 'nOOOOOO!'"
   ]
  },
  {
   "cell_type": "code",
   "execution_count": 22,
   "metadata": {},
   "outputs": [
    {
     "ename": "AttributeError",
     "evalue": "'BazAr' object has no attribute 'coco'",
     "output_type": "error",
     "traceback": [
      "\u001b[0;31m---------------------------------------------------------------------------\u001b[0m",
      "\u001b[0;31mAttributeError\u001b[0m                            Traceback (most recent call last)",
      "\u001b[0;32m<ipython-input-22-54f7daf2ef21>\u001b[0m in \u001b[0;36m<module>\u001b[0;34m()\u001b[0m\n\u001b[0;32m----> 1\u001b[0;31m \u001b[0mtmp_a\u001b[0m \u001b[0;34m=\u001b[0m \u001b[0mBazAr\u001b[0m\u001b[0;34m(\u001b[0m\u001b[0;34m'slot_mechanism'\u001b[0m\u001b[0;34m)\u001b[0m\u001b[0;34m\u001b[0m\u001b[0m\n\u001b[0m",
      "\u001b[0;32m<ipython-input-21-85e60ca43cd1>\u001b[0m in \u001b[0;36m__init__\u001b[0;34m(self, props)\u001b[0m\n\u001b[1;32m      5\u001b[0m     \u001b[0;32mdef\u001b[0m \u001b[0m__init__\u001b[0m\u001b[0;34m(\u001b[0m\u001b[0mself\u001b[0m\u001b[0;34m,\u001b[0m \u001b[0mprops\u001b[0m\u001b[0;34m)\u001b[0m\u001b[0;34m:\u001b[0m\u001b[0;34m\u001b[0m\u001b[0m\n\u001b[1;32m      6\u001b[0m         \u001b[0mself\u001b[0m\u001b[0;34m.\u001b[0m\u001b[0mabaz\u001b[0m \u001b[0;34m=\u001b[0m \u001b[0mprops\u001b[0m\u001b[0;34m\u001b[0m\u001b[0m\n\u001b[0;32m----> 7\u001b[0;31m         \u001b[0mself\u001b[0m\u001b[0;34m.\u001b[0m\u001b[0mcoco\u001b[0m \u001b[0;34m=\u001b[0m \u001b[0;34m'nOOOOOO!'\u001b[0m\u001b[0;34m\u001b[0m\u001b[0m\n\u001b[0m",
      "\u001b[0;31mAttributeError\u001b[0m: 'BazAr' object has no attribute 'coco'"
     ]
    }
   ],
   "source": [
    "tmp_a = BazAr('slot_mechanism')"
   ]
  },
  {
   "cell_type": "code",
   "execution_count": 297,
   "metadata": {},
   "outputs": [
    {
     "data": {
      "text/plain": [
       "'slot_mechanism'"
      ]
     },
     "execution_count": 297,
     "metadata": {},
     "output_type": "execute_result"
    }
   ],
   "source": [
    "tmp_a.abaz"
   ]
  },
  {
   "cell_type": "code",
   "execution_count": 298,
   "metadata": {},
   "outputs": [
    {
     "ename": "AttributeError",
     "evalue": "'BazAr' object has no attribute 'thereisnomore'",
     "output_type": "error",
     "traceback": [
      "\u001b[0;31m---------------------------------------------------------------------------\u001b[0m",
      "\u001b[0;31mAttributeError\u001b[0m                            Traceback (most recent call last)",
      "\u001b[0;32m<ipython-input-298-99e3b03b8ccf>\u001b[0m in \u001b[0;36m<module>\u001b[0;34m()\u001b[0m\n\u001b[1;32m      1\u001b[0m \u001b[0;31m### теперь мы не можем добавлять новых атрибутов\u001b[0m\u001b[0;34m\u001b[0m\u001b[0;34m\u001b[0m\u001b[0m\n\u001b[0;32m----> 2\u001b[0;31m \u001b[0mtmp_a\u001b[0m\u001b[0;34m.\u001b[0m\u001b[0mthereisnomore\u001b[0m \u001b[0;34m=\u001b[0m \u001b[0;36m2\u001b[0m\u001b[0;34m\u001b[0m\u001b[0m\n\u001b[0m",
      "\u001b[0;31mAttributeError\u001b[0m: 'BazAr' object has no attribute 'thereisnomore'"
     ]
    }
   ],
   "source": [
    "### теперь мы не можем добавлять новых атрибутов\n",
    "tmp_a.thereisnomore = 2"
   ]
  },
  {
   "cell_type": "markdown",
   "metadata": {},
   "source": [
    "И даже создать новый метод не получится"
   ]
  },
  {
   "cell_type": "markdown",
   "metadata": {},
   "source": [
    "_______"
   ]
  },
  {
   "cell_type": "markdown",
   "metadata": {},
   "source": [
    "про распаковку аргументов"
   ]
  },
  {
   "cell_type": "code",
   "execution_count": 302,
   "metadata": {
    "collapsed": true
   },
   "outputs": [],
   "source": [
    "class Nopepe:\n",
    "    \n",
    "    def function(self, *args, **kwargs):\n",
    "        print (args[3])\n",
    "        if 'coco' in kwargs:\n",
    "            print (kwargs['coco'])"
   ]
  },
  {
   "cell_type": "code",
   "execution_count": 303,
   "metadata": {},
   "outputs": [
    {
     "name": "stdout",
     "output_type": "stream",
     "text": [
      "4\n",
      "im_here\n"
     ]
    }
   ],
   "source": [
    "tmp_1 = Nopepe()\n",
    "tmp_1.function(1, 2, 3, 4, 5, 6, j=84, coco='im_here', excel='wtf')"
   ]
  },
  {
   "cell_type": "markdown",
   "metadata": {},
   "source": [
    "_____"
   ]
  },
  {
   "cell_type": "markdown",
   "metadata": {},
   "source": [
    "##### Наследование"
   ]
  },
  {
   "cell_type": "code",
   "execution_count": 1,
   "metadata": {
    "ExecuteTime": {
     "end_time": "2018-10-03T06:33:01.642615Z",
     "start_time": "2018-10-03T06:33:01.614906Z"
    }
   },
   "outputs": [],
   "source": [
    "class A(object):\n",
    "    \n",
    "    def __init__(self):\n",
    "        self.class_ = \"A\"\n",
    "        self.batya = 'object'\n",
    "    \n",
    "    def come_on(self, python):\n",
    "        print('A.{}'.format(python))\n",
    "       \n",
    "    def __str__(self):\n",
    "        return 'batya={}, class={}'.format(self.batya, self.class_)\n",
    "        \n",
    "        \n",
    "class B(A):\n",
    "    \n",
    "    def __init__(self):\n",
    "        super(B, self).__init__() # same as super().__init__()\n",
    "        self.batya = self.class_\n",
    "        self.class_= \"B\"\n",
    "        \n",
    "    def come_on(self, python):\n",
    "        print('B.{}'.format(python))"
   ]
  },
  {
   "cell_type": "code",
   "execution_count": 2,
   "metadata": {
    "ExecuteTime": {
     "end_time": "2018-10-03T06:33:01.999931Z",
     "start_time": "2018-10-03T06:33:01.996985Z"
    }
   },
   "outputs": [],
   "source": [
    "a = A()\n",
    "b = B()"
   ]
  },
  {
   "cell_type": "markdown",
   "metadata": {},
   "source": [
    "> что напечатает print(a), print(b) ?"
   ]
  },
  {
   "cell_type": "code",
   "execution_count": 3,
   "metadata": {
    "ExecuteTime": {
     "end_time": "2018-10-03T06:33:02.812157Z",
     "start_time": "2018-10-03T06:33:02.798543Z"
    }
   },
   "outputs": [
    {
     "name": "stdout",
     "output_type": "stream",
     "text": [
      "batya=object, class=A\n"
     ]
    }
   ],
   "source": [
    "print(a)"
   ]
  },
  {
   "cell_type": "code",
   "execution_count": 4,
   "metadata": {
    "ExecuteTime": {
     "end_time": "2018-10-03T06:33:03.110678Z",
     "start_time": "2018-10-03T06:33:03.106619Z"
    },
    "scrolled": true
   },
   "outputs": [
    {
     "name": "stdout",
     "output_type": "stream",
     "text": [
      "batya=A, class=B\n"
     ]
    }
   ],
   "source": [
    "print(b)"
   ]
  },
  {
   "cell_type": "code",
   "execution_count": null,
   "metadata": {},
   "outputs": [],
   "source": []
  },
  {
   "cell_type": "code",
   "execution_count": 7,
   "metadata": {
    "ExecuteTime": {
     "end_time": "2018-10-03T06:33:10.452146Z",
     "start_time": "2018-10-03T06:33:10.445099Z"
    }
   },
   "outputs": [],
   "source": [
    "class C(B):\n",
    "    \n",
    "    def __init__(self):\n",
    "        super().__init__()\n",
    "        self.batya = self.class_\n",
    "        self.class_=\"C\"\n",
    "    \n",
    "    def come_on(self, python):\n",
    "        print('B.{}'.format(python))"
   ]
  },
  {
   "cell_type": "code",
   "execution_count": 8,
   "metadata": {
    "ExecuteTime": {
     "end_time": "2018-10-03T06:33:10.649386Z",
     "start_time": "2018-10-03T06:33:10.645294Z"
    }
   },
   "outputs": [
    {
     "name": "stdout",
     "output_type": "stream",
     "text": [
      "batya=B, class=C\n"
     ]
    }
   ],
   "source": [
    "c = C()\n",
    "print(c)"
   ]
  },
  {
   "cell_type": "markdown",
   "metadata": {},
   "source": [
    "> вызывая super() мы \"грубо говоря\" возвращаем класс следущий по иерархии наследования"
   ]
  },
  {
   "cell_type": "markdown",
   "metadata": {},
   "source": [
    "> вызывая его __init__ заполняем поля !текущего инстанса"
   ]
  },
  {
   "cell_type": "code",
   "execution_count": 105,
   "metadata": {
    "ExecuteTime": {
     "end_time": "2018-10-01T07:12:19.346915Z",
     "start_time": "2018-10-01T07:12:19.336689Z"
    }
   },
   "outputs": [
    {
     "data": {
      "text/plain": [
       "(True, True, True, True)"
      ]
     },
     "execution_count": 105,
     "metadata": {},
     "output_type": "execute_result"
    }
   ],
   "source": [
    "isinstance(c, C), isinstance(c, B), isinstance(c, A), isinstance(c, object)"
   ]
  },
  {
   "cell_type": "code",
   "execution_count": 106,
   "metadata": {
    "ExecuteTime": {
     "end_time": "2018-10-01T07:12:30.895084Z",
     "start_time": "2018-10-01T07:12:30.889142Z"
    }
   },
   "outputs": [
    {
     "data": {
      "text/plain": [
       "True"
      ]
     },
     "execution_count": 106,
     "metadata": {},
     "output_type": "execute_result"
    }
   ],
   "source": [
    "issubclass(C, A)"
   ]
  },
  {
   "cell_type": "markdown",
   "metadata": {},
   "source": [
    "_______"
   ]
  },
  {
   "cell_type": "markdown",
   "metadata": {},
   "source": [
    "Пример проблемы ромбовидного наследования при котором уже не все так очевидно"
   ]
  },
  {
   "cell_type": "code",
   "execution_count": 208,
   "metadata": {
    "ExecuteTime": {
     "end_time": "2018-10-01T08:46:57.986250Z",
     "start_time": "2018-10-01T08:46:57.870901Z"
    },
    "collapsed": true
   },
   "outputs": [],
   "source": [
    "class God(object):\n",
    "    def dd(self):\n",
    "        print('Me God')\n",
    "        \n",
    "class Adam(God):\n",
    "    def dd(self):\n",
    "        print('Adam')\n",
    "        super().dd()\n",
    "        \n",
    "class Eva(God): \n",
    "    def dd(self):\n",
    "        print('Eva')\n",
    "        super().dd()\n",
    "        \n",
    "class Ramon(Adam, Eva):\n",
    "    def dd(self):\n",
    "        print('Ramon')\n",
    "        super().dd()\n",
    "        \n",
    "class Gayle(Adam, Eva):\n",
    "    def dd(self):\n",
    "        print('Gayle')\n",
    "        super().dd()\n",
    "        \n",
    "class Raymond(Ramon, Gayle):\n",
    "    def dd(self):\n",
    "        print('Raymond')\n",
    "        super().dd()\n",
    "\n",
    "class Dennis(Adam, Eva): \n",
    "    def dd(self):\n",
    "        print('Dennis')\n",
    "        super().dd()\n",
    "        \n",
    "class Sharon(Adam, Eva): \n",
    "    def dd(self):\n",
    "        print('Sharon')\n",
    "        super().dd()\n",
    "        \n",
    "class Rachel(Dennis, Sharon): \n",
    "    def dd(self):\n",
    "        print('Rachel')\n",
    "        super().dd()\n",
    "\n",
    "class Mattew(Raymond, Rachel): \n",
    "    def dd(self):\n",
    "        print('Rachel')\n",
    "        super().dd()"
   ]
  },
  {
   "cell_type": "code",
   "execution_count": 209,
   "metadata": {
    "ExecuteTime": {
     "end_time": "2018-10-01T08:46:58.447385Z",
     "start_time": "2018-10-01T08:46:58.432009Z"
    }
   },
   "outputs": [
    {
     "name": "stdout",
     "output_type": "stream",
     "text": [
      "Help on class Mattew in module __main__:\n",
      "\n",
      "class Mattew(Raymond, Rachel)\n",
      " |  Method resolution order:\n",
      " |      Mattew\n",
      " |      Raymond\n",
      " |      Ramon\n",
      " |      Gayle\n",
      " |      Rachel\n",
      " |      Dennis\n",
      " |      Sharon\n",
      " |      Adam\n",
      " |      Eva\n",
      " |      God\n",
      " |      builtins.object\n",
      " |  \n",
      " |  Methods defined here:\n",
      " |  \n",
      " |  dd(self)\n",
      " |  \n",
      " |  ----------------------------------------------------------------------\n",
      " |  Data descriptors inherited from God:\n",
      " |  \n",
      " |  __dict__\n",
      " |      dictionary for instance variables (if defined)\n",
      " |  \n",
      " |  __weakref__\n",
      " |      list of weak references to the object (if defined)\n",
      "\n"
     ]
    }
   ],
   "source": [
    "# при вызове хелп нам покажут порядок разрешения методов (MRO)\n",
    " \n",
    "help(Mattew)"
   ]
  },
  {
   "cell_type": "code",
   "execution_count": 212,
   "metadata": {
    "ExecuteTime": {
     "end_time": "2018-10-01T08:44:36.729481Z",
     "start_time": "2018-10-01T08:44:36.726451Z"
    },
    "collapsed": true
   },
   "outputs": [],
   "source": [
    "tmp_1 = Mattew()"
   ]
  },
  {
   "cell_type": "code",
   "execution_count": 213,
   "metadata": {
    "ExecuteTime": {
     "end_time": "2018-10-01T08:44:37.149964Z",
     "start_time": "2018-10-01T08:44:37.144374Z"
    }
   },
   "outputs": [
    {
     "name": "stdout",
     "output_type": "stream",
     "text": [
      "Mattew\n",
      "Raymond\n",
      "Ramon\n",
      "Gayle\n",
      "Rachel\n",
      "Dennis\n",
      "Sharon\n",
      "Adam\n",
      "Eva\n",
      "Me God\n"
     ]
    }
   ],
   "source": [
    "tmp_1.dd()"
   ]
  },
  {
   "cell_type": "markdown",
   "metadata": {},
   "source": [
    "__________"
   ]
  },
  {
   "cell_type": "markdown",
   "metadata": {},
   "source": [
    "еще один способ создания класса..."
   ]
  },
  {
   "cell_type": "raw",
   "metadata": {},
   "source": [
    "# type(ИмяКласса, (Кортеж классов родителей), {словарь с атрибутами класса})"
   ]
  },
  {
   "cell_type": "code",
   "execution_count": 221,
   "metadata": {},
   "outputs": [],
   "source": [
    "_func = lambda self: 'foo_print'\n",
    "\n",
    "def f (self, a):\n",
    "    self.some_atribute = a\n",
    "\n",
    "some_class_class = type('NewClass', (), {'something_': 554, 'foo': _func, '__init__': f})"
   ]
  },
  {
   "cell_type": "code",
   "execution_count": 223,
   "metadata": {},
   "outputs": [
    {
     "data": {
      "text/plain": [
       "__main__.NewClass"
      ]
     },
     "execution_count": 223,
     "metadata": {},
     "output_type": "execute_result"
    }
   ],
   "source": [
    "some_class_class"
   ]
  },
  {
   "cell_type": "code",
   "execution_count": 212,
   "metadata": {},
   "outputs": [],
   "source": [
    "tmp_re = some_class_class(234)"
   ]
  },
  {
   "cell_type": "code",
   "execution_count": 213,
   "metadata": {},
   "outputs": [
    {
     "data": {
      "text/plain": [
       "(554, 234)"
      ]
     },
     "execution_count": 213,
     "metadata": {},
     "output_type": "execute_result"
    }
   ],
   "source": [
    "some_class_class.something_, tmp_re.some_atribute"
   ]
  },
  {
   "cell_type": "code",
   "execution_count": 214,
   "metadata": {},
   "outputs": [
    {
     "data": {
      "text/plain": [
       "'foo_print'"
      ]
     },
     "execution_count": 214,
     "metadata": {},
     "output_type": "execute_result"
    }
   ],
   "source": [
    "tmp_re.foo()"
   ]
  },
  {
   "cell_type": "markdown",
   "metadata": {},
   "source": [
    "____"
   ]
  },
  {
   "cell_type": "markdown",
   "metadata": {},
   "source": [
    "### Декораторы"
   ]
  },
  {
   "cell_type": "markdown",
   "metadata": {},
   "source": [
    "##### 1. над функциями"
   ]
  },
  {
   "cell_type": "code",
   "execution_count": 55,
   "metadata": {
    "ExecuteTime": {
     "end_time": "2018-10-03T06:35:09.396485Z",
     "start_time": "2018-10-03T06:35:09.380843Z"
    }
   },
   "outputs": [],
   "source": [
    "def cache_decorator(function):\n",
    "    mem_cache = {}\n",
    "    \n",
    "    def cached_fucntion(argument):\n",
    "        if argument in mem_cache:\n",
    "            print('I used cache!')\n",
    "            print('local and non local atributes here:', dir())\n",
    "            return mem_cache[argument]\n",
    "        else:\n",
    "            print('i dont use cache!')\n",
    "            mem_cache[argument] = function(argument)\n",
    "            return mem_cache[argument]\n",
    "    \n",
    "    return cached_fucntion"
   ]
  },
  {
   "cell_type": "code",
   "execution_count": 56,
   "metadata": {
    "ExecuteTime": {
     "end_time": "2018-10-03T06:35:09.726607Z",
     "start_time": "2018-10-03T06:35:09.719122Z"
    }
   },
   "outputs": [],
   "source": [
    "def _some_heavy_operation(x):\n",
    "    for i in range(100000000):\n",
    "        x += 1\n",
    "    return x\n",
    "\n",
    "def squeare(x):\n",
    "    return _some_heavy_operation(x)"
   ]
  },
  {
   "cell_type": "code",
   "execution_count": 57,
   "metadata": {
    "ExecuteTime": {
     "end_time": "2018-10-03T06:35:09.975494Z",
     "start_time": "2018-10-03T06:35:09.970903Z"
    }
   },
   "outputs": [],
   "source": [
    "squeare = cache_decorator(squeare)\n",
    "\n",
    "@cache_decorator\n",
    "def squeare (x):\n",
    "    return _some_heavy_operation(x)\n"
   ]
  },
  {
   "cell_type": "code",
   "execution_count": 58,
   "metadata": {
    "ExecuteTime": {
     "end_time": "2018-10-03T06:35:15.867082Z",
     "start_time": "2018-10-03T06:35:10.168585Z"
    }
   },
   "outputs": [
    {
     "name": "stdout",
     "output_type": "stream",
     "text": [
      "i dont use cache!\n"
     ]
    },
    {
     "data": {
      "text/plain": [
       "100000002"
      ]
     },
     "execution_count": 58,
     "metadata": {},
     "output_type": "execute_result"
    }
   ],
   "source": [
    "squeare(2)"
   ]
  },
  {
   "cell_type": "code",
   "execution_count": 59,
   "metadata": {
    "ExecuteTime": {
     "end_time": "2018-10-03T06:35:15.873702Z",
     "start_time": "2018-10-03T06:35:15.869675Z"
    }
   },
   "outputs": [
    {
     "name": "stdout",
     "output_type": "stream",
     "text": [
      "I used cache!\n",
      "local and non local atributes here: ['argument', 'function', 'mem_cache']\n"
     ]
    },
    {
     "data": {
      "text/plain": [
       "100000002"
      ]
     },
     "execution_count": 59,
     "metadata": {},
     "output_type": "execute_result"
    }
   ],
   "source": [
    "squeare(2)"
   ]
  },
  {
   "cell_type": "markdown",
   "metadata": {},
   "source": [
    "##### 2. над классами"
   ]
  },
  {
   "cell_type": "code",
   "execution_count": 83,
   "metadata": {
    "ExecuteTime": {
     "end_time": "2018-10-02T08:59:48.504849Z",
     "start_time": "2018-10-02T08:59:48.489923Z"
    }
   },
   "outputs": [],
   "source": [
    "class MyClass:\n",
    "    \n",
    "    def __init__(self, prox):\n",
    "        self.prox = prox"
   ]
  },
  {
   "cell_type": "code",
   "execution_count": 84,
   "metadata": {
    "ExecuteTime": {
     "end_time": "2018-10-02T08:59:53.770549Z",
     "start_time": "2018-10-02T08:59:53.763097Z"
    }
   },
   "outputs": [
    {
     "data": {
      "text/plain": [
       "__main__.MyClass"
      ]
     },
     "execution_count": 84,
     "metadata": {},
     "output_type": "execute_result"
    }
   ],
   "source": [
    "MyClass"
   ]
  },
  {
   "cell_type": "code",
   "execution_count": 96,
   "metadata": {
    "ExecuteTime": {
     "end_time": "2018-10-03T06:55:00.505944Z",
     "start_time": "2018-10-03T06:55:00.496161Z"
    }
   },
   "outputs": [],
   "source": [
    "class MyClass:\n",
    "    \n",
    "    is_init = None\n",
    "    \n",
    "    def __new__(cls, *args, **kw):\n",
    "        if cls.is_init is None:\n",
    "            cls.is_init = super().__new__(cls)\n",
    "        return cls.is_init"
   ]
  },
  {
   "cell_type": "code",
   "execution_count": 97,
   "metadata": {
    "ExecuteTime": {
     "end_time": "2018-10-03T06:55:01.476289Z",
     "start_time": "2018-10-03T06:55:01.469757Z"
    }
   },
   "outputs": [],
   "source": [
    "a = MyClass()"
   ]
  },
  {
   "cell_type": "code",
   "execution_count": 98,
   "metadata": {
    "ExecuteTime": {
     "end_time": "2018-10-03T06:55:05.667576Z",
     "start_time": "2018-10-03T06:55:05.657509Z"
    }
   },
   "outputs": [],
   "source": [
    "a.prox = 1"
   ]
  },
  {
   "cell_type": "code",
   "execution_count": 99,
   "metadata": {
    "ExecuteTime": {
     "end_time": "2018-10-03T06:55:09.418393Z",
     "start_time": "2018-10-03T06:55:09.416066Z"
    }
   },
   "outputs": [],
   "source": [
    "b = MyClass()"
   ]
  },
  {
   "cell_type": "code",
   "execution_count": 100,
   "metadata": {
    "ExecuteTime": {
     "end_time": "2018-10-03T06:55:11.339019Z",
     "start_time": "2018-10-03T06:55:11.332474Z"
    }
   },
   "outputs": [
    {
     "data": {
      "text/plain": [
       "1"
      ]
     },
     "execution_count": 100,
     "metadata": {},
     "output_type": "execute_result"
    }
   ],
   "source": [
    "b.prox"
   ]
  },
  {
   "cell_type": "code",
   "execution_count": 91,
   "metadata": {
    "ExecuteTime": {
     "end_time": "2018-10-02T07:00:13.333581Z",
     "start_time": "2018-10-02T07:00:13.309873Z"
    }
   },
   "outputs": [],
   "source": [
    "def singleton(cls):\n",
    "    instances = {}\n",
    "    def getinstance(*args, **kwargs):\n",
    "        if cls not in instances:\n",
    "            instances[cls] = cls(*args, **kwargs)\n",
    "        return instances[cls]\n",
    "    return getinstance\n",
    "\n",
    "@singleton\n",
    "class MyClass:\n",
    "    \n",
    "    def __init__(self, prox):\n",
    "        self.prox = prox\n",
    "    "
   ]
  },
  {
   "cell_type": "code",
   "execution_count": 92,
   "metadata": {
    "ExecuteTime": {
     "end_time": "2018-10-02T08:59:40.939499Z",
     "start_time": "2018-10-02T08:59:40.932436Z"
    }
   },
   "outputs": [
    {
     "data": {
      "text/plain": [
       "<function __main__.singleton.<locals>.getinstance(*args, **kwargs)>"
      ]
     },
     "execution_count": 92,
     "metadata": {},
     "output_type": "execute_result"
    }
   ],
   "source": [
    "MyClass"
   ]
  },
  {
   "cell_type": "code",
   "execution_count": 93,
   "metadata": {
    "ExecuteTime": {
     "end_time": "2018-10-02T07:00:13.622216Z",
     "start_time": "2018-10-02T07:00:13.618235Z"
    }
   },
   "outputs": [],
   "source": [
    "a = MyClass(234)"
   ]
  },
  {
   "cell_type": "code",
   "execution_count": 94,
   "metadata": {
    "ExecuteTime": {
     "end_time": "2018-10-02T07:00:14.029456Z",
     "start_time": "2018-10-02T07:00:14.022848Z"
    }
   },
   "outputs": [
    {
     "data": {
      "text/plain": [
       "<__main__.MyClass at 0x7fb7f016dba8>"
      ]
     },
     "execution_count": 94,
     "metadata": {},
     "output_type": "execute_result"
    }
   ],
   "source": [
    "a"
   ]
  },
  {
   "cell_type": "code",
   "execution_count": 95,
   "metadata": {
    "ExecuteTime": {
     "end_time": "2018-10-02T07:00:16.886939Z",
     "start_time": "2018-10-02T07:00:16.880252Z"
    }
   },
   "outputs": [],
   "source": [
    "b = MyClass(883)"
   ]
  },
  {
   "cell_type": "code",
   "execution_count": 81,
   "metadata": {
    "ExecuteTime": {
     "end_time": "2018-10-02T07:00:17.993458Z",
     "start_time": "2018-10-02T07:00:17.977322Z"
    }
   },
   "outputs": [
    {
     "data": {
      "text/plain": [
       "<__main__.MyClass at 0x7fb7f015cb70>"
      ]
     },
     "execution_count": 81,
     "metadata": {},
     "output_type": "execute_result"
    }
   ],
   "source": [
    "b"
   ]
  },
  {
   "cell_type": "code",
   "execution_count": 82,
   "metadata": {
    "ExecuteTime": {
     "end_time": "2018-10-02T07:00:28.284972Z",
     "start_time": "2018-10-02T07:00:28.276146Z"
    }
   },
   "outputs": [
    {
     "data": {
      "text/plain": [
       "(234, 234)"
      ]
     },
     "execution_count": 82,
     "metadata": {},
     "output_type": "execute_result"
    }
   ],
   "source": [
    "a.prox, b.prox"
   ]
  },
  {
   "cell_type": "markdown",
   "metadata": {},
   "source": [
    "##### другие примеры декораторов"
   ]
  },
  {
   "cell_type": "markdown",
   "metadata": {},
   "source": [
    "##### измеряющий время"
   ]
  },
  {
   "cell_type": "code",
   "execution_count": 296,
   "metadata": {
    "ExecuteTime": {
     "end_time": "2018-10-02T07:02:33.612968Z",
     "start_time": "2018-10-02T07:02:33.608598Z"
    },
    "collapsed": true
   },
   "outputs": [],
   "source": [
    "from datetime import datetime"
   ]
  },
  {
   "cell_type": "code",
   "execution_count": 301,
   "metadata": {
    "ExecuteTime": {
     "end_time": "2018-10-02T07:04:48.295597Z",
     "start_time": "2018-10-02T07:04:48.281084Z"
    },
    "collapsed": true
   },
   "outputs": [],
   "source": [
    "def time_decorator(function):\n",
    "    \n",
    "    def decorated_fucntion(*args, **kwargs):\n",
    "        t_start = datetime.now()\n",
    "        res = function(*args, **kwargs)\n",
    "        t_stop = datetime.now()\n",
    "        print(\"exec_time={}\".format(t_stop - t_start))\n",
    "        return res\n",
    "    \n",
    "    return decorated_fucntion"
   ]
  },
  {
   "cell_type": "code",
   "execution_count": 302,
   "metadata": {
    "ExecuteTime": {
     "end_time": "2018-10-02T07:04:48.837367Z",
     "start_time": "2018-10-02T07:04:48.826048Z"
    },
    "collapsed": true
   },
   "outputs": [],
   "source": [
    "@time_decorator\n",
    "def some_operation(x):\n",
    "    for i in range(100000000):\n",
    "        x += 1\n",
    "    return x\n"
   ]
  },
  {
   "cell_type": "code",
   "execution_count": 303,
   "metadata": {
    "ExecuteTime": {
     "end_time": "2018-10-02T07:04:55.015268Z",
     "start_time": "2018-10-02T07:04:49.213472Z"
    }
   },
   "outputs": [
    {
     "name": "stdout",
     "output_type": "stream",
     "text": [
      "exec_time=0:00:05.796432\n"
     ]
    },
    {
     "data": {
      "text/plain": [
       "100000020"
      ]
     },
     "execution_count": 303,
     "metadata": {},
     "output_type": "execute_result"
    }
   ],
   "source": [
    "some_operation(20)"
   ]
  },
  {
   "cell_type": "markdown",
   "metadata": {},
   "source": [
    "##### считающий число вызывов"
   ]
  },
  {
   "cell_type": "markdown",
   "metadata": {},
   "source": [
    "##### подменяющий аргументы или проверяющий их корректность."
   ]
  },
  {
   "cell_type": "markdown",
   "metadata": {},
   "source": [
    "_____"
   ]
  },
  {
   "cell_type": "markdown",
   "metadata": {},
   "source": [
    "##### classmethod & staticmethod"
   ]
  },
  {
   "cell_type": "code",
   "execution_count": 2,
   "metadata": {
    "ExecuteTime": {
     "end_time": "2018-10-01T14:15:46.092111Z",
     "start_time": "2018-10-01T14:15:46.032028Z"
    }
   },
   "outputs": [],
   "source": [
    "class A(object):\n",
    "    \n",
    "    count_ = 100500\n",
    "    \n",
    "    def foo(self, x):\n",
    "        print ('foo with self=%s and x=%s' % (self, x))\n",
    "\n",
    "    @classmethod\n",
    "    def class_foo(cls, x):\n",
    "        print ('class foo with cls=%s and local_variables=%s \\\n",
    "including count_=%s' % (cls, dir(), cls.count_))\n",
    "\n",
    "    @staticmethod\n",
    "    def static_foo(x):\n",
    "        print ('static foo x=%s and local_variables=%s' % (x, dir()))  \n",
    "\n",
    "a=A()"
   ]
  },
  {
   "cell_type": "code",
   "execution_count": 3,
   "metadata": {
    "ExecuteTime": {
     "end_time": "2018-10-01T14:15:46.415696Z",
     "start_time": "2018-10-01T14:15:46.409446Z"
    }
   },
   "outputs": [
    {
     "name": "stdout",
     "output_type": "stream",
     "text": [
      "foo with self=<__main__.A object at 0x7f0ec46bae10> and x=some_x\n"
     ]
    }
   ],
   "source": [
    "a.foo('some_x')"
   ]
  },
  {
   "cell_type": "code",
   "execution_count": 4,
   "metadata": {
    "ExecuteTime": {
     "end_time": "2018-10-01T14:15:46.631931Z",
     "start_time": "2018-10-01T14:15:46.625694Z"
    }
   },
   "outputs": [
    {
     "name": "stdout",
     "output_type": "stream",
     "text": [
      "class foo with cls=<class '__main__.A'> and local_variables=['cls', 'x'] including count_=100500\n"
     ]
    }
   ],
   "source": [
    "a.class_foo('some_x')"
   ]
  },
  {
   "cell_type": "code",
   "execution_count": 231,
   "metadata": {
    "ExecuteTime": {
     "end_time": "2018-10-01T14:15:47.458645Z",
     "start_time": "2018-10-01T14:15:47.445872Z"
    }
   },
   "outputs": [
    {
     "name": "stdout",
     "output_type": "stream",
     "text": [
      "class foo with cls=<class '__main__.A'> and local_variables=['cls', 'x'] including count_=100500\n"
     ]
    }
   ],
   "source": [
    "A.class_foo('some_x')"
   ]
  },
  {
   "cell_type": "code",
   "execution_count": 232,
   "metadata": {
    "ExecuteTime": {
     "end_time": "2018-10-01T14:15:48.263256Z",
     "start_time": "2018-10-01T14:15:48.252745Z"
    }
   },
   "outputs": [
    {
     "name": "stdout",
     "output_type": "stream",
     "text": [
      "static foo x=some_x and local_variables=['x']\n"
     ]
    }
   ],
   "source": [
    "a.static_foo('some_x')"
   ]
  },
  {
   "cell_type": "code",
   "execution_count": 233,
   "metadata": {
    "ExecuteTime": {
     "end_time": "2018-10-01T14:15:49.363228Z",
     "start_time": "2018-10-01T14:15:49.349109Z"
    }
   },
   "outputs": [
    {
     "name": "stdout",
     "output_type": "stream",
     "text": [
      "static foo x=some_x and local_variables=['x']\n"
     ]
    }
   ],
   "source": [
    "A.static_foo('some_x')"
   ]
  },
  {
   "cell_type": "markdown",
   "metadata": {
    "ExecuteTime": {
     "end_time": "2018-10-01T07:21:19.190066Z",
     "start_time": "2018-10-01T07:21:19.182015Z"
    }
   },
   "source": [
    "> обычный метод принимает в качестве первого агрумента метода экземпляр (self)\n",
    "\n",
    "> классовый метод принимает в качестве первого агрумента метода - класс экземпляра (cls),\n",
    "можно вызывать и из класса, и из экземпляра. Один из вариантов использования - наследуемые конструкторы.\n",
    "\n",
    "> в статический метод не передаются в качестве первого агрумента ни экземпляр ни класс.\n",
    "похож на обычные функции, но можно вызывать из экземпляра или класса. нет доступа к атрибутам класса "
   ]
  },
  {
   "cell_type": "markdown",
   "metadata": {},
   "source": [
    "__________-\n"
   ]
  },
  {
   "cell_type": "markdown",
   "metadata": {},
   "source": [
    "#### свойства / property"
   ]
  },
  {
   "cell_type": "code",
   "execution_count": 77,
   "metadata": {
    "ExecuteTime": {
     "end_time": "2018-10-03T11:01:11.127909Z",
     "start_time": "2018-10-03T11:01:11.116235Z"
    }
   },
   "outputs": [],
   "source": [
    "class SomeBank:\n",
    "    \n",
    "    def __init__(self, start):\n",
    "        self._rubles = start\n",
    "        \n",
    "    @property\n",
    "    def rubles(self):\n",
    "        return self._rubles\n",
    "    \n",
    "    @rubles.setter\n",
    "    def rubles(self, value):\n",
    "        if value > 0:\n",
    "            self._rubles = value\n",
    "        else:\n",
    "            raise Exception('I know python!')\n",
    "\n",
    "    @rubles.deleter\n",
    "    def rubles(self, value):\n",
    "        del self._rubles\n",
    "    "
   ]
  },
  {
   "cell_type": "code",
   "execution_count": 78,
   "metadata": {
    "ExecuteTime": {
     "end_time": "2018-10-03T11:01:16.363538Z",
     "start_time": "2018-10-03T11:01:16.354577Z"
    }
   },
   "outputs": [],
   "source": [
    "interv = SomeBank(6000)"
   ]
  },
  {
   "cell_type": "code",
   "execution_count": 79,
   "metadata": {
    "ExecuteTime": {
     "end_time": "2018-10-03T11:01:21.257200Z",
     "start_time": "2018-10-03T11:01:21.242433Z"
    }
   },
   "outputs": [
    {
     "data": {
      "text/plain": [
       "6000"
      ]
     },
     "execution_count": 79,
     "metadata": {},
     "output_type": "execute_result"
    }
   ],
   "source": [
    "interv.rubles"
   ]
  },
  {
   "cell_type": "code",
   "execution_count": 80,
   "metadata": {
    "ExecuteTime": {
     "end_time": "2018-10-03T11:01:25.337240Z",
     "start_time": "2018-10-03T11:01:25.329257Z"
    }
   },
   "outputs": [],
   "source": [
    "interv.rubles = 2342"
   ]
  },
  {
   "cell_type": "code",
   "execution_count": 81,
   "metadata": {
    "ExecuteTime": {
     "end_time": "2018-10-03T11:01:29.153199Z",
     "start_time": "2018-10-03T11:01:29.146384Z"
    }
   },
   "outputs": [
    {
     "data": {
      "text/plain": [
       "2342"
      ]
     },
     "execution_count": 81,
     "metadata": {},
     "output_type": "execute_result"
    }
   ],
   "source": [
    "interv.rubles"
   ]
  },
  {
   "cell_type": "code",
   "execution_count": 82,
   "metadata": {
    "ExecuteTime": {
     "end_time": "2018-10-03T11:01:34.703919Z",
     "start_time": "2018-10-03T11:01:34.684469Z"
    }
   },
   "outputs": [
    {
     "ename": "Exception",
     "evalue": "I know python!",
     "output_type": "error",
     "traceback": [
      "\u001b[0;31m---------------------------------------------------------------------------\u001b[0m",
      "\u001b[0;31mException\u001b[0m                                 Traceback (most recent call last)",
      "\u001b[0;32m<ipython-input-82-c4a432c5e7a5>\u001b[0m in \u001b[0;36m<module>\u001b[0;34m()\u001b[0m\n\u001b[0;32m----> 1\u001b[0;31m \u001b[0minterv\u001b[0m\u001b[0;34m.\u001b[0m\u001b[0mrubles\u001b[0m \u001b[0;34m=\u001b[0m \u001b[0;34m-\u001b[0m\u001b[0;36m32\u001b[0m\u001b[0;34m\u001b[0m\u001b[0m\n\u001b[0m",
      "\u001b[0;32m<ipython-input-77-a55ec66fa393>\u001b[0m in \u001b[0;36mrubles\u001b[0;34m(self, value)\u001b[0m\n\u001b[1;32m     13\u001b[0m             \u001b[0mself\u001b[0m\u001b[0;34m.\u001b[0m\u001b[0m_rubles\u001b[0m \u001b[0;34m=\u001b[0m \u001b[0mvalue\u001b[0m\u001b[0;34m\u001b[0m\u001b[0m\n\u001b[1;32m     14\u001b[0m         \u001b[0;32melse\u001b[0m\u001b[0;34m:\u001b[0m\u001b[0;34m\u001b[0m\u001b[0m\n\u001b[0;32m---> 15\u001b[0;31m             \u001b[0;32mraise\u001b[0m \u001b[0mException\u001b[0m\u001b[0;34m(\u001b[0m\u001b[0;34m'I know python!'\u001b[0m\u001b[0;34m)\u001b[0m\u001b[0;34m\u001b[0m\u001b[0m\n\u001b[0m\u001b[1;32m     16\u001b[0m \u001b[0;34m\u001b[0m\u001b[0m\n\u001b[1;32m     17\u001b[0m \u001b[0;34m\u001b[0m\u001b[0m\n",
      "\u001b[0;31mException\u001b[0m: I know python!"
     ]
    }
   ],
   "source": [
    "interv.rubles = -32"
   ]
  },
  {
   "cell_type": "code",
   "execution_count": null,
   "metadata": {},
   "outputs": [],
   "source": [
    "# будьте внимательнее - где тут ошибка?\n",
    "\n",
    "class MoneySaver:\n",
    "    \n",
    "    def __init__(self, exchange_rate):\n",
    "        self.exchange_rate = exchange_rate\n",
    "        self.copilka = 0\n",
    "        \n",
    "    @property\n",
    "    def copilka(self):\n",
    "        return self.copilka * self.exchange_rate\n",
    "    \n",
    "    @copilka.setter\n",
    "    def copilka(self, x):\n",
    "        self.copilka += x / self.exchange_rate # <- тут будет рекурсия\n",
    "        \n",
    "dollars_savers = MoneySaver(100)\n",
    "dollars_savers.copilka = 10\n",
    "print(dollars_savers.copilka)"
   ]
  },
  {
   "cell_type": "code",
   "execution_count": 5,
   "metadata": {
    "ExecuteTime": {
     "end_time": "2018-10-03T12:25:53.994945Z",
     "start_time": "2018-10-03T12:25:53.981891Z"
    }
   },
   "outputs": [],
   "source": [
    "class Descriptor():\n",
    "    \n",
    "    def __get__(self, instance, owner):\n",
    "        print('getter',  instance, owner)\n",
    "        \n",
    "    def __set__(self, instance, value):\n",
    "        print('setter', instance, value)\n",
    "        \n",
    "        \n",
    "class Somesung():\n",
    "    \n",
    "    atr = Descriptor()\n",
    "    "
   ]
  },
  {
   "cell_type": "code",
   "execution_count": 6,
   "metadata": {
    "ExecuteTime": {
     "end_time": "2018-10-03T12:25:54.133033Z",
     "start_time": "2018-10-03T12:25:54.129746Z"
    }
   },
   "outputs": [],
   "source": [
    "instance_descr = Somesung()"
   ]
  },
  {
   "cell_type": "code",
   "execution_count": 7,
   "metadata": {
    "ExecuteTime": {
     "end_time": "2018-10-03T12:25:54.268683Z",
     "start_time": "2018-10-03T12:25:54.258824Z"
    }
   },
   "outputs": [
    {
     "name": "stdout",
     "output_type": "stream",
     "text": [
      "getter <__main__.Somesung object at 0x7f0ec46ba0f0> <class '__main__.Somesung'>\n"
     ]
    }
   ],
   "source": [
    "instance_descr.atr"
   ]
  },
  {
   "cell_type": "code",
   "execution_count": 114,
   "metadata": {
    "ExecuteTime": {
     "end_time": "2018-10-03T12:25:54.419681Z",
     "start_time": "2018-10-03T12:25:54.409557Z"
    }
   },
   "outputs": [
    {
     "data": {
      "text/plain": [
       "{}"
      ]
     },
     "execution_count": 114,
     "metadata": {},
     "output_type": "execute_result"
    }
   ],
   "source": [
    "instance_descr.__dict__"
   ]
  },
  {
   "cell_type": "code",
   "execution_count": 115,
   "metadata": {
    "ExecuteTime": {
     "end_time": "2018-10-03T12:25:54.811483Z",
     "start_time": "2018-10-03T12:25:54.804858Z"
    }
   },
   "outputs": [
    {
     "name": "stdout",
     "output_type": "stream",
     "text": [
      "getter <__main__.Somesung object at 0x7f9210112ba8> <class '__main__.Somesung'>\n"
     ]
    }
   ],
   "source": [
    "instance_descr.atr"
   ]
  },
  {
   "cell_type": "code",
   "execution_count": 116,
   "metadata": {
    "ExecuteTime": {
     "end_time": "2018-10-03T12:25:55.154055Z",
     "start_time": "2018-10-03T12:25:55.149361Z"
    }
   },
   "outputs": [
    {
     "name": "stdout",
     "output_type": "stream",
     "text": [
      "setter <__main__.Somesung object at 0x7f9210112ba8> 4\n"
     ]
    }
   ],
   "source": [
    "instance_descr.atr = 4"
   ]
  },
  {
   "cell_type": "markdown",
   "metadata": {
    "collapsed": true
   },
   "source": [
    "____________"
   ]
  },
  {
   "cell_type": "markdown",
   "metadata": {},
   "source": [
    "### Сортировки"
   ]
  },
  {
   "cell_type": "markdown",
   "metadata": {},
   "source": [
    "##### Пузырьком"
   ]
  },
  {
   "cell_type": "code",
   "execution_count": 58,
   "metadata": {
    "collapsed": true
   },
   "outputs": [],
   "source": [
    "def bubble_sort(array):\n",
    "    length = len(array)\n",
    "    for i in range(0, length - 1):\n",
    "        for j in range(0, length - i - 1):\n",
    "            if array[j] > array[j+1]:\n",
    "                array[j], array[j+1] = array[j+1], array[j]"
   ]
  },
  {
   "cell_type": "code",
   "execution_count": 59,
   "metadata": {},
   "outputs": [
    {
     "data": {
      "text/plain": [
       "[10, 25, 24, 45, 7, 49, 38, 29, 20, 19]"
      ]
     },
     "execution_count": 59,
     "metadata": {},
     "output_type": "execute_result"
    }
   ],
   "source": [
    "some_array = [random.randint(1, 50) for i in range(10)]\n",
    "some_array_ = some_array[:]\n",
    "some_array"
   ]
  },
  {
   "cell_type": "code",
   "execution_count": 60,
   "metadata": {},
   "outputs": [
    {
     "data": {
      "text/plain": [
       "[7, 10, 19, 20, 24, 25, 29, 38, 45, 49]"
      ]
     },
     "execution_count": 60,
     "metadata": {},
     "output_type": "execute_result"
    }
   ],
   "source": [
    "bubble_sort(some_array)\n",
    "\n",
    "some_array"
   ]
  },
  {
   "cell_type": "code",
   "execution_count": 61,
   "metadata": {},
   "outputs": [],
   "source": [
    "assert all([i==j for i,j in zip(some_array, sorted(some_array_))]), 'sorting doesnt work!'"
   ]
  },
  {
   "cell_type": "markdown",
   "metadata": {},
   "source": [
    "![](http://interactivepython.org/courselib/static/pythonds/_images/bubblepass.png)"
   ]
  },
  {
   "cell_type": "markdown",
   "metadata": {},
   "source": [
    "credits to http://interactivepython.org/courselib/static/pythonds/SortSearch/TheBubbleSort.html"
   ]
  },
  {
   "cell_type": "markdown",
   "metadata": {},
   "source": [
    "##### Быстрая"
   ]
  },
  {
   "cell_type": "code",
   "execution_count": 33,
   "metadata": {
    "ExecuteTime": {
     "end_time": "2018-10-02T16:38:48.855513Z",
     "start_time": "2018-10-02T16:38:48.820787Z"
    },
    "collapsed": true
   },
   "outputs": [],
   "source": [
    "def in_mem_devider(array, left, right):\n",
    "    support_element = array[right - 1] # выберем последний\n",
    "    index = left - 1\n",
    "    for current_cell in range(left, right):\n",
    "        if array[current_cell] <= support_element:\n",
    "            index += 1\n",
    "            array[index], array[current_cell] = array[current_cell], array[index]\n",
    "            # проходимся по массиву\n",
    "            # сравниваем каждый элемент с опорным\n",
    "            # если он меньше, помещаю в начало массива\n",
    "            # на место index + 1\n",
    "            # т.е. следующее после того как я положил туда элемент\n",
    "            # меньший чем опорный\n",
    "    return index + 1\n",
    "\n",
    "def quick_sort(arr:list, left:int, right:int):\n",
    "    if left < right:\n",
    "        boundary = in_mem_devider(arr, left, right)\n",
    "        quick_sort(arr, left, boundary - 1)\n",
    "        quick_sort(arr, boundary, right)"
   ]
  },
  {
   "cell_type": "code",
   "execution_count": 34,
   "metadata": {
    "ExecuteTime": {
     "end_time": "2018-10-02T16:38:49.028678Z",
     "start_time": "2018-10-02T16:38:49.025128Z"
    },
    "collapsed": true
   },
   "outputs": [],
   "source": [
    "import random"
   ]
  },
  {
   "cell_type": "code",
   "execution_count": 35,
   "metadata": {
    "ExecuteTime": {
     "end_time": "2018-10-02T16:38:49.248020Z",
     "start_time": "2018-10-02T16:38:49.241703Z"
    },
    "scrolled": true
   },
   "outputs": [
    {
     "data": {
      "text/plain": [
       "[19, 30, 24, 11, 41, 41, 18, 1, 9, 2]"
      ]
     },
     "execution_count": 35,
     "metadata": {},
     "output_type": "execute_result"
    }
   ],
   "source": [
    "some_array = [random.randint(1, 50) for i in range(10)]\n",
    "some_array_ = some_array[:]\n",
    "some_array"
   ]
  },
  {
   "cell_type": "code",
   "execution_count": 36,
   "metadata": {
    "ExecuteTime": {
     "end_time": "2018-10-02T16:38:49.431503Z",
     "start_time": "2018-10-02T16:38:49.428481Z"
    },
    "scrolled": true
   },
   "outputs": [],
   "source": [
    "quick_sort(some_array, 0, len(some_array))"
   ]
  },
  {
   "cell_type": "code",
   "execution_count": 37,
   "metadata": {},
   "outputs": [
    {
     "data": {
      "text/plain": [
       "[1, 2, 9, 11, 18, 19, 24, 30, 41, 41]"
      ]
     },
     "execution_count": 37,
     "metadata": {},
     "output_type": "execute_result"
    }
   ],
   "source": [
    "some_array"
   ]
  },
  {
   "cell_type": "code",
   "execution_count": 38,
   "metadata": {
    "ExecuteTime": {
     "end_time": "2018-10-02T16:38:49.672913Z",
     "start_time": "2018-10-02T16:38:49.669633Z"
    }
   },
   "outputs": [],
   "source": [
    "assert all([i==j for i,j in zip(some_array, sorted(some_array_))]), 'sorting doesnt work!'"
   ]
  },
  {
   "cell_type": "markdown",
   "metadata": {},
   "source": [
    "##### Слиянием"
   ]
  },
  {
   "cell_type": "code",
   "execution_count": 151,
   "metadata": {},
   "outputs": [],
   "source": [
    "def merge(array_l, array_r):\n",
    "    l_index, r_index = 0, 0\n",
    "    res = []\n",
    "    \n",
    "    # заводим два счетчика\n",
    "    # параллельно смотрим два массива\n",
    "    # кладем элементы в порядке неубывания\n",
    "    \n",
    "    while l_index < len(array_l) and r_index < len(array_r):\n",
    "        if array_l[l_index] < array_r[r_index]:\n",
    "            res.append(array_l[l_index])\n",
    "            l_index += 1\n",
    "        else:\n",
    "            res.append(array_r[r_index])\n",
    "            r_index += 1\n",
    "    \n",
    "    while l_index < len(array_l):\n",
    "        res.append(array_l[l_index])\n",
    "        l_index += 1\n",
    "        \n",
    "    while r_index < len(array_r):\n",
    "        res.append(array_r[r_index])\n",
    "        r_index += 1\n",
    "    \n",
    "    return res\n",
    "\n",
    "def merge_sort(array):\n",
    "    length = len(array)\n",
    "    if length > 1:\n",
    "        sorted_sub_arr_1 = merge_sort(array[ : length // 2 ])\n",
    "        sorted_sub_arr_2 = merge_sort(array[ length // 2 : ])\n",
    "        new_arr = merge(sorted_sub_arr_1, sorted_sub_arr_2)\n",
    "        return new_arr\n",
    "    return array"
   ]
  },
  {
   "cell_type": "code",
   "execution_count": 152,
   "metadata": {},
   "outputs": [
    {
     "data": {
      "text/plain": [
       "[16, 14, 49, 6, 47, 18, 47, 3, 43, 25]"
      ]
     },
     "execution_count": 152,
     "metadata": {},
     "output_type": "execute_result"
    }
   ],
   "source": [
    "some_array = [random.randint(1, 50) for i in range(10)]\n",
    "some_array_ = some_array[:]\n",
    "some_array"
   ]
  },
  {
   "cell_type": "code",
   "execution_count": 153,
   "metadata": {},
   "outputs": [
    {
     "data": {
      "text/plain": [
       "[3, 6, 14, 16, 18, 25, 43, 47, 47, 49]"
      ]
     },
     "execution_count": 153,
     "metadata": {},
     "output_type": "execute_result"
    }
   ],
   "source": [
    "some_array = merge_sort(some_array)\n",
    "some_array"
   ]
  },
  {
   "cell_type": "code",
   "execution_count": 154,
   "metadata": {},
   "outputs": [],
   "source": [
    "assert all([i==j for i,j in zip(some_array, sorted(some_array_))]), 'sorting doesnt work!'"
   ]
  },
  {
   "cell_type": "markdown",
   "metadata": {},
   "source": [
    "![](http://interactivepython.org/courselib/static/pythonds/_images/mergesortA.png)"
   ]
  },
  {
   "cell_type": "markdown",
   "metadata": {},
   "source": [
    "![](http://interactivepython.org/courselib/static/pythonds/_images/mergesortB.png)"
   ]
  },
  {
   "cell_type": "markdown",
   "metadata": {},
   "source": [
    "credits to http://interactivepython.org/courselib/static/pythonds/SortSearch/"
   ]
  },
  {
   "cell_type": "code",
   "execution_count": null,
   "metadata": {
    "collapsed": true
   },
   "outputs": [],
   "source": []
  },
  {
   "cell_type": "code",
   "execution_count": null,
   "metadata": {
    "collapsed": true
   },
   "outputs": [],
   "source": []
  },
  {
   "cell_type": "code",
   "execution_count": null,
   "metadata": {
    "collapsed": true
   },
   "outputs": [],
   "source": []
  }
 ],
 "metadata": {
  "kernelspec": {
   "display_name": "Python 3",
   "language": "python",
   "name": "python3"
  },
  "language_info": {
   "codemirror_mode": {
    "name": "ipython",
    "version": 3
   },
   "file_extension": ".py",
   "mimetype": "text/x-python",
   "name": "python",
   "nbconvert_exporter": "python",
   "pygments_lexer": "ipython3",
   "version": "3.6.5"
  }
 },
 "nbformat": 4,
 "nbformat_minor": 2
}
