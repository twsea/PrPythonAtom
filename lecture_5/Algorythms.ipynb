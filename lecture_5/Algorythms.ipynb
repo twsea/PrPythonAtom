{
 "cells": [
  {
   "cell_type": "code",
   "execution_count": 5,
   "metadata": {},
   "outputs": [],
   "source": [
    "import pandas as pd\n",
    "import numpy as np"
   ]
  },
  {
   "cell_type": "code",
   "execution_count": 84,
   "metadata": {},
   "outputs": [],
   "source": [
    "class prefix_tree:\n",
    "    \n",
    "    def __init__(self):\n",
    "        self.root = [{}]\n",
    "        self.amount = 0\n",
    "        \n",
    "    def add(self, string):\n",
    "        #string = string.lower() #делаю все буквы маленькими\n",
    "        wrk_dict = self.root #wrk_dict теперь равно дереву\n",
    "        for i in string: #перебирает буквы в строке. по-любому проходит все слово до конца\n",
    "            if i in wrk_dict[0]: #смотрит, есть ли текущая буква в ключе словаря\n",
    "                wrk_dict = wrk_dict[0][i] #обращаемся к словарю по ключу \"i\"\n",
    "            else:\n",
    "                if len(wrk_dict) == 1: #если list состоит только из словаря, т.e. слово ранее не записывалось\n",
    "                    wrk_dict.append(0)\n",
    "                wrk_dict[0][i] = [{}] #записываем по ключу \"i\"  снова список с пустым словарем внутри\n",
    "                wrk_dict = wrk_dict[0][i] #переходим в свежезаписанный list\n",
    "        if len(wrk_dict) == 1: #если list состоит только из словаря, т.e. слово ранее не записывалось\n",
    "            wrk_dict.append(1) \n",
    "        else:\n",
    "            wrk_dict[1] = wrk_dict[1] + 1 \n",
    "        self.amount += 1\n",
    "        #TODO добавить строку\n",
    "        \n",
    "    def check(self, string):\n",
    "        wrk_dict = self.root\n",
    "        for i in string:\n",
    "            if i in wrk_dict[0]:\n",
    "                wrk_dict = wrk_dict[0][i] #если буква-ключ есть, то углубляемся\n",
    "            else:\n",
    "                return False\n",
    "        if wrk_dict[1] == True:\n",
    "            return True\n",
    "        return False\n",
    "        #TODO проверить наличие строки\n",
    "   \n",
    "    def check_part(self, string):\n",
    "        wrk_dict = self.root\n",
    "        for i in string:\n",
    "            if i in wrk_dict[0]:\n",
    "                wrk_dict = wrk_dict[0][i]\n",
    "            else:\n",
    "                return False\n",
    "        return True\n",
    "        #TODO проверить наличие строки как префикса"
   ]
  },
  {
   "cell_type": "code",
   "execution_count": 85,
   "metadata": {},
   "outputs": [],
   "source": [
    "pr_tree = prefix_tree()\n",
    "\n",
    "pr_tree.add(\"строка\")\n",
    "assert pr_tree.check(\"строка\")\n",
    "assert not pr_tree.check(\"строк\")\n",
    "assert not pr_tree.check(\"строка1\")\n",
    "assert pr_tree.check_part(\"строк\")"
   ]
  },
  {
   "cell_type": "code",
   "execution_count": 135,
   "metadata": {},
   "outputs": [
    {
     "data": {
      "text/plain": [
       "[{'с': [{'т': [{'р': [{'о': [{'к': [{'а': [{}, 1]}, 0]}, 0]}, 0]}, 0]}, 0],\n",
       "  'к': [{'о': [{'т': [{'и': [{'к': [{}, 2]}, 0], 'ы': [{}, 1]}, 1]}, 0]}, 0]},\n",
       " 0]"
      ]
     },
     "execution_count": 135,
     "metadata": {},
     "output_type": "execute_result"
    }
   ],
   "source": [
    "pr_tree.root"
   ]
  },
  {
   "cell_type": "code",
   "execution_count": 134,
   "metadata": {},
   "outputs": [
    {
     "name": "stdout",
     "output_type": "stream",
     "text": [
      "0\n",
      "{'т': [{'р': [{'о': [{'к': [{'а': [{}, 1]}, 0]}, 0]}, 0]}, 0]}\n",
      "0\n",
      "{'р': [{'о': [{'к': [{'а': [{}, 1]}, 0]}, 0]}, 0]}\n",
      "0\n",
      "{'о': [{'к': [{'а': [{}, 1]}, 0]}, 0]}\n",
      "0\n",
      "{'к': [{'а': [{}, 1]}, 0]}\n",
      "0\n",
      "{'а': [{}, 1]}\n",
      "0\n",
      "{'о': [{'т': [{'и': [{'к': [{}, 2]}, 0], 'ы': [{}, 1]}, 1]}, 0]}\n",
      "0\n",
      "{'т': [{'и': [{'к': [{}, 2]}, 0], 'ы': [{}, 1]}, 1]}\n",
      "0\n",
      "{'и': [{'к': [{}, 2]}, 0], 'ы': [{}, 1]}\n",
      "1\n",
      "{'к': [{}, 2]}\n"
     ]
    }
   ],
   "source": [
    "#признак реального конца - пустота словаря!\n",
    "w = pr_tree.root\n",
    "for key in list(w[0].keys()): \n",
    "    #i = list(w[0].keys())[0]\n",
    "    w = pr_tree.root\n",
    "    i = key\n",
    "    while len(list(w[0][i][0].keys())) != 0: #w[0][i][0] - след. dict в текущем\n",
    "        #тут обходим вглубь каждый ключ до конца\n",
    "        print(w[1])\n",
    "        w = w[0][i]\n",
    "        print(w[0])\n",
    "        i = list(w[0].keys())[0]"
   ]
  },
  {
   "cell_type": "code",
   "execution_count": 225,
   "metadata": {},
   "outputs": [],
   "source": [
    "  \n",
    "def recur (w,string, key): #обход дерева\n",
    "    string = string + key\n",
    "    #print(string)\n",
    "    #print(list(w[0][key][0].keys()))\n",
    "    #print(key)\n",
    "    if len(list(w[0][key][0].keys())) == 0: #если внутренний словарь пуст, значит это последняя буква слова\n",
    "        return string\n",
    "    else:\n",
    "        w = w[0][key] #иначе переходим по текущему ключу в его внутренний словарь\n",
    "        for m in list(w[0].keys()): #перебираем все ключи во внутреннем словаре\n",
    "            return recur(w,string,m) \n",
    "        #запустить цикл который будет засовывать сюда же все ключи из массива ключей"
   ]
  },
  {
   "cell_type": "code",
   "execution_count": 227,
   "metadata": {},
   "outputs": [
    {
     "name": "stdout",
     "output_type": "stream",
     "text": [
      "строка\n",
      "строка\n",
      "котик\n",
      "котик\n"
     ]
    }
   ],
   "source": [
    "w = pr_tree.root\n",
    "s = ''\n",
    "for key in w[0]:\n",
    "    print(recur(w,s,key))\n",
    "    print(recur(w,s,key))"
   ]
  },
  {
   "cell_type": "code",
   "execution_count": 136,
   "metadata": {},
   "outputs": [],
   "source": [
    "s = ''"
   ]
  },
  {
   "cell_type": "code",
   "execution_count": 137,
   "metadata": {},
   "outputs": [
    {
     "data": {
      "text/plain": [
       "dict_keys(['с', 'к'])"
      ]
     },
     "execution_count": 137,
     "metadata": {},
     "output_type": "execute_result"
    }
   ],
   "source": [
    "w[0].keys()"
   ]
  },
  {
   "cell_type": "code",
   "execution_count": 89,
   "metadata": {},
   "outputs": [],
   "source": [
    "pr_tree.add(\"котик\")"
   ]
  },
  {
   "cell_type": "code",
   "execution_count": 133,
   "metadata": {},
   "outputs": [],
   "source": [
    "pr_tree.add(\"коты\")"
   ]
  },
  {
   "cell_type": "code",
   "execution_count": 15,
   "metadata": {},
   "outputs": [],
   "source": [
    "pr_tree.add(\"с\")"
   ]
  },
  {
   "cell_type": "code",
   "execution_count": 33,
   "metadata": {},
   "outputs": [],
   "source": [
    "pr_tree.add(\"Страх в Лас-Вегасе\")"
   ]
  },
  {
   "cell_type": "code",
   "execution_count": 34,
   "metadata": {},
   "outputs": [
    {
     "data": {
      "text/plain": [
       "[{'с': [{'т': [{'р': [{'о': [{'к': [{'а': [{}, True]}, False]}, False]},\n",
       "       False]},\n",
       "     False]},\n",
       "   True],\n",
       "  'к': [{'о': [{'т': [{'и': [{'к': [{}, True]}, False]}, True]}, False]},\n",
       "   False],\n",
       "  'С': [{'т': [{'р': [{'а': [{'х': [{' ': [{'в': [{' ': [{'Л': [{'а': [{'с': [{'-': [{'В': [{'е': [{'г': [{'а': [{'с': [{'е': [{},\n",
       "                                     True]},\n",
       "                                   False]},\n",
       "                                 False]},\n",
       "                               False]},\n",
       "                             False]},\n",
       "                           False]},\n",
       "                         False]},\n",
       "                       False]},\n",
       "                     False]},\n",
       "                   False]},\n",
       "                 False]},\n",
       "               False]},\n",
       "             False]},\n",
       "           False]},\n",
       "         False]},\n",
       "       False]},\n",
       "     False]},\n",
       "   False]},\n",
       " False,\n",
       " False,\n",
       " False]"
      ]
     },
     "execution_count": 34,
     "metadata": {},
     "output_type": "execute_result"
    }
   ],
   "source": [
    "pr_tree.root"
   ]
  },
  {
   "cell_type": "code",
   "execution_count": 43,
   "metadata": {},
   "outputs": [
    {
     "data": {
      "text/plain": [
       "'aasdfasoijfddddd'"
      ]
     },
     "execution_count": 43,
     "metadata": {},
     "output_type": "execute_result"
    }
   ],
   "source": []
  },
  {
   "cell_type": "code",
   "execution_count": 42,
   "metadata": {},
   "outputs": [
    {
     "data": {
      "text/plain": [
       "[{'и': [{'к': [{}, True]}, False]}, True]"
      ]
     },
     "execution_count": 42,
     "metadata": {},
     "output_type": "execute_result"
    }
   ],
   "source": [
    "pr_tree.root[0]['к'][0]['о'][0]['т']"
   ]
  },
  {
   "cell_type": "code",
   "execution_count": 27,
   "metadata": {},
   "outputs": [
    {
     "data": {
      "text/plain": [
       "2"
      ]
     },
     "execution_count": 27,
     "metadata": {},
     "output_type": "execute_result"
    }
   ],
   "source": [
    "len(pr_tree.root[0]['к'][0]['о'][0]['т'])"
   ]
  },
  {
   "cell_type": "code",
   "execution_count": 28,
   "metadata": {},
   "outputs": [
    {
     "data": {
      "text/plain": [
       "False"
      ]
     },
     "execution_count": 28,
     "metadata": {},
     "output_type": "execute_result"
    }
   ],
   "source": [
    "pr_tree.check_part('от')"
   ]
  },
  {
   "cell_type": "code",
   "execution_count": 29,
   "metadata": {},
   "outputs": [],
   "source": [
    "w = [{'1':'2'}]"
   ]
  },
  {
   "cell_type": "code",
   "execution_count": 30,
   "metadata": {},
   "outputs": [
    {
     "data": {
      "text/plain": [
       "True"
      ]
     },
     "execution_count": 30,
     "metadata": {},
     "output_type": "execute_result"
    }
   ],
   "source": [
    "'1' in w[0]"
   ]
  },
  {
   "cell_type": "code",
   "execution_count": 31,
   "metadata": {},
   "outputs": [
    {
     "data": {
      "text/plain": [
       "'2'"
      ]
     },
     "execution_count": 31,
     "metadata": {},
     "output_type": "execute_result"
    }
   ],
   "source": [
    "w[0]['1']"
   ]
  },
  {
   "cell_type": "code",
   "execution_count": 44,
   "metadata": {},
   "outputs": [
    {
     "data": {
      "text/plain": [
       "[{'1': '2'}]"
      ]
     },
     "execution_count": 44,
     "metadata": {},
     "output_type": "execute_result"
    }
   ],
   "source": [
    "w"
   ]
  },
  {
   "cell_type": "code",
   "execution_count": 45,
   "metadata": {},
   "outputs": [],
   "source": [
    "r = {}"
   ]
  },
  {
   "cell_type": "code",
   "execution_count": 46,
   "metadata": {},
   "outputs": [],
   "source": [
    "r['k'] = 'f'"
   ]
  },
  {
   "cell_type": "code",
   "execution_count": 47,
   "metadata": {},
   "outputs": [
    {
     "data": {
      "text/plain": [
       "{'k': 'f'}"
      ]
     },
     "execution_count": 47,
     "metadata": {},
     "output_type": "execute_result"
    }
   ],
   "source": [
    "r"
   ]
  },
  {
   "cell_type": "code",
   "execution_count": 3,
   "metadata": {},
   "outputs": [],
   "source": [
    "r = [1,2]\n",
    "r.append('5')"
   ]
  },
  {
   "cell_type": "code",
   "execution_count": 4,
   "metadata": {},
   "outputs": [
    {
     "data": {
      "text/plain": [
       "[1, 2, '5']"
      ]
     },
     "execution_count": 4,
     "metadata": {},
     "output_type": "execute_result"
    }
   ],
   "source": [
    "r"
   ]
  },
  {
   "cell_type": "code",
   "execution_count": 159,
   "metadata": {},
   "outputs": [],
   "source": [
    "s = ''"
   ]
  },
  {
   "cell_type": "code",
   "execution_count": 160,
   "metadata": {},
   "outputs": [],
   "source": [
    "s = s + 'j'"
   ]
  },
  {
   "cell_type": "code",
   "execution_count": 161,
   "metadata": {},
   "outputs": [
    {
     "data": {
      "text/plain": [
       "'j'"
      ]
     },
     "execution_count": 161,
     "metadata": {},
     "output_type": "execute_result"
    }
   ],
   "source": [
    "s"
   ]
  },
  {
   "cell_type": "code",
   "execution_count": null,
   "metadata": {},
   "outputs": [],
   "source": []
  }
 ],
 "metadata": {
  "anaconda-cloud": {},
  "kernelspec": {
   "display_name": "Python 3",
   "language": "python",
   "name": "python3"
  },
  "language_info": {
   "codemirror_mode": {
    "name": "ipython",
    "version": 3
   },
   "file_extension": ".py",
   "mimetype": "text/x-python",
   "name": "python",
   "nbconvert_exporter": "python",
   "pygments_lexer": "ipython3",
   "version": "3.6.5"
  }
 },
 "nbformat": 4,
 "nbformat_minor": 1
}
