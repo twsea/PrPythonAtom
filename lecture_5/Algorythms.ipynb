{
 "cells": [
  {
   "cell_type": "code",
   "execution_count": 1,
   "metadata": {},
   "outputs": [],
   "source": [
    "import pandas as pd\n",
    "import numpy as np"
   ]
  },
  {
   "cell_type": "code",
   "execution_count": 2,
   "metadata": {},
   "outputs": [],
   "source": [
    "class PrefixTree:\n",
    "    def __init__(self):\n",
    "        self.root = [{}]\n",
    "        self.amount = 0\n",
    "        \n",
    "    def add(self, string):\n",
    "        #string = string.lower() #делаю все буквы маленькими\n",
    "        wrk_dict = self.root #wrk_dict теперь равно дереву\n",
    "        for i in string: #перебирает буквы в строке. по-любому проходит все слово до конца\n",
    "            if i in wrk_dict[0]: #смотрит, есть ли текущая буква в ключе словаря\n",
    "                wrk_dict = wrk_dict[0][i] #обращаемся к словарю по ключу \"i\"\n",
    "            else:\n",
    "                if len(wrk_dict) == 1: #если list состоит только из словаря, т.e. слово ранее не записывалось\n",
    "                    wrk_dict.append(0)\n",
    "                wrk_dict[0][i] = [{}] #записываем по ключу \"i\"  снова список с пустым словарем внутри\n",
    "                wrk_dict = wrk_dict[0][i] #переходим в свежезаписанный list\n",
    "        if len(wrk_dict) == 1: #если list состоит только из словаря, т.e. слово ранее не записывалось\n",
    "            wrk_dict.append(1) \n",
    "        else:\n",
    "            wrk_dict[1] = wrk_dict[1] + 1 \n",
    "        self.amount += 1\n",
    "        #TODO добавить строку\n",
    "        \n",
    "        \n",
    "    def check(self, string):\n",
    "        wrk_dict = self.root\n",
    "        for i in string:\n",
    "            if i in wrk_dict[0]:\n",
    "                wrk_dict = wrk_dict[0][i] #если буква-ключ есть, то углубляемся\n",
    "            else:\n",
    "                return False\n",
    "        if wrk_dict[1] == True:\n",
    "            return True\n",
    "        return False\n",
    "        #TODO проверить наличие строки\n",
    "    \n",
    "    def check_part(self, string): #всегда проверят от начала\n",
    "        wrk_dict = self.root\n",
    "        for i in string:\n",
    "            if i in wrk_dict[0]:\n",
    "                wrk_dict = wrk_dict[0][i]\n",
    "            else:\n",
    "                return False\n",
    "        return True\n",
    "\n",
    "    def show_tree(self):\n",
    "        w = self.root\n",
    "        s = ''\n",
    "        p = [[]] #выводит массив со словами\n",
    "        for key in w[0]:\n",
    "            self.recur(p, w,s,key)\n",
    "        print(p)\n",
    "    #нужно добавлять в [[],[],[]]\n",
    "    def recur (self, array, w,string, key): #обход дерева\n",
    "        string = string + key\n",
    "        if len(list(w[0][key][0].keys())) == 0: #если внутренний словарь пуст, значит это последняя буква слова\n",
    "            array.append(string)\n",
    "        else:\n",
    "            w = w[0][key] #иначе переходим по текущему ключу в его внутренний словарь\n",
    "            for m in list(w[0].keys()): #перебираем все ключи во внутреннем словаре\n",
    "                self.recur(array, w,string,m)\n",
    " "
   ]
  },
  {
   "cell_type": "code",
   "execution_count": 4,
   "metadata": {},
   "outputs": [],
   "source": [
    "pr_tree = PrefixTree()\n",
    "\n",
    "pr_tree.add(\"строка\")\n",
    "assert pr_tree.check(\"строка\")\n",
    "assert not pr_tree.check(\"строк\")\n",
    "assert not pr_tree.check(\"строка1\")\n",
    "assert pr_tree.check_part(\"строк\")"
   ]
  },
  {
   "cell_type": "code",
   "execution_count": 5,
   "metadata": {},
   "outputs": [],
   "source": [
    "pr_tree.add(\"котик\")\n",
    "pr_tree.add(\"коты\")\n",
    "pr_tree.add(\"срез\")"
   ]
  },
  {
   "cell_type": "code",
   "execution_count": 7,
   "metadata": {},
   "outputs": [
    {
     "name": "stdout",
     "output_type": "stream",
     "text": [
      "['строка', 'срез', 'котик', 'коты']\n"
     ]
    }
   ],
   "source": [
    "pr_tree.show_tree()"
   ]
  },
  {
   "cell_type": "code",
   "execution_count": 16,
   "metadata": {},
   "outputs": [],
   "source": [
    "p = [[]]"
   ]
  },
  {
   "cell_type": "code",
   "execution_count": 33,
   "metadata": {},
   "outputs": [],
   "source": [
    "p[len(p)-1].append(1)\n",
    "p[len(p)-1].append(2)\n",
    "p.append([])"
   ]
  },
  {
   "cell_type": "code",
   "execution_count": 34,
   "metadata": {},
   "outputs": [
    {
     "data": {
      "text/plain": [
       "[[1, 2], [1, 2], [1, 2], [1, 2], [1, 2], []]"
      ]
     },
     "execution_count": 34,
     "metadata": {},
     "output_type": "execute_result"
    }
   ],
   "source": [
    "p"
   ]
  },
  {
   "cell_type": "code",
   "execution_count": null,
   "metadata": {},
   "outputs": [],
   "source": []
  }
 ],
 "metadata": {
  "anaconda-cloud": {},
  "kernelspec": {
   "display_name": "Python 3",
   "language": "python",
   "name": "python3"
  },
  "language_info": {
   "codemirror_mode": {
    "name": "ipython",
    "version": 3
   },
   "file_extension": ".py",
   "mimetype": "text/x-python",
   "name": "python",
   "nbconvert_exporter": "python",
   "pygments_lexer": "ipython3",
   "version": "3.6.5"
  }
 },
 "nbformat": 4,
 "nbformat_minor": 1
}
