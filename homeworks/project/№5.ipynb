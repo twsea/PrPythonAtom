{
 "cells": [
  {
   "cell_type": "code",
   "execution_count": 5,
   "metadata": {},
   "outputs": [],
   "source": [
    "from multiprocessing import Pool \n",
    "import csv \n",
    "from datetime import datetime \n",
    "import os \n",
    "import requests \n",
    "import pandas as pd \n",
    "import selenium \n",
    "from selenium.webdriver import Chrome \n",
    "from selenium.webdriver.common.keys import Keys \n",
    "from selenium.common.exceptions import NoSuchElementException, WebDriverException \n",
    "from user_agent import generate_user_agent \n",
    "from time import sleep \n",
    "#from text_processing import change_date \n",
    "#from text_processing import lemmatizator \n",
    "import numpy as np \n",
    "from os import getcwd"
   ]
  },
  {
   "cell_type": "code",
   "execution_count": 42,
   "metadata": {},
   "outputs": [],
   "source": [
    "import urllib \n",
    "from urllib.parse import unquote"
   ]
  },
  {
   "cell_type": "code",
   "execution_count": 29,
   "metadata": {},
   "outputs": [],
   "source": [
    "browser = Chrome(executable_path = '/home/twsea/Documents/python-mail/PrPythonAtom/homeworks/project/chromedriver')\n",
    "browser.get('https://www.kinopoisk.ru/')\n",
    "search_form = browser.find_element_by_class_name('header-fresh-search-partial-component__field')\n",
    "search_form.send_keys('Елки')\n",
    "search_form.send_keys(Keys.ENTER)\n",
    "search_form = browser.find_element_by_xpath('//*[@id=\"block_left_pad\"]/div/div[2]/div/div[2]/p/a') #клик по первому фильму\n",
    "search_form.click()\n",
    "browser.close()\n"
   ]
  },
  {
   "cell_type": "code",
   "execution_count": 47,
   "metadata": {},
   "outputs": [],
   "source": [
    "string = '%E5%EB%EA%E8'"
   ]
  },
  {
   "cell_type": "code",
   "execution_count": 58,
   "metadata": {},
   "outputs": [
    {
     "data": {
      "text/plain": [
       "'%D0%B5%D0%BB%D0%BA%D0%B8'"
      ]
     },
     "execution_count": 58,
     "metadata": {},
     "output_type": "execute_result"
    }
   ],
   "source": [
    "import urllib.parse\n",
    "\n",
    "s = 'елки'\n",
    "urllib.parse.quote(s.encode('utf-8'))"
   ]
  },
  {
   "cell_type": "code",
   "execution_count": 59,
   "metadata": {},
   "outputs": [
    {
     "name": "stdout",
     "output_type": "stream",
     "text": [
      "Requirement already satisfied: requests in /home/twsea/anaconda3/lib/python3.6/site-packages (2.18.4)\n",
      "Requirement already satisfied: bs4 in /home/twsea/anaconda3/lib/python3.6/site-packages (0.0.1)\n",
      "Requirement already satisfied: user_agent in /home/twsea/anaconda3/lib/python3.6/site-packages (0.1.9)\n",
      "Requirement already satisfied: selenium in /home/twsea/anaconda3/lib/python3.6/site-packages (3.14.1)\n",
      "Requirement already satisfied: chardet<3.1.0,>=3.0.2 in /home/twsea/anaconda3/lib/python3.6/site-packages (from requests) (3.0.4)\n",
      "Requirement already satisfied: idna<2.7,>=2.5 in /home/twsea/anaconda3/lib/python3.6/site-packages (from requests) (2.6)\n",
      "Requirement already satisfied: urllib3<1.23,>=1.21.1 in /home/twsea/anaconda3/lib/python3.6/site-packages (from requests) (1.22)\n",
      "Requirement already satisfied: certifi>=2017.4.17 in /home/twsea/anaconda3/lib/python3.6/site-packages (from requests) (2018.4.16)\n",
      "Requirement already satisfied: beautifulsoup4 in /home/twsea/anaconda3/lib/python3.6/site-packages (from bs4) (4.6.0)\n",
      "Requirement already satisfied: six in /home/twsea/anaconda3/lib/python3.6/site-packages (from user_agent) (1.11.0)\n"
     ]
    }
   ],
   "source": [
    "!pip install requests bs4 user_agent selenium"
   ]
  },
  {
   "cell_type": "code",
   "execution_count": 202,
   "metadata": {},
   "outputs": [],
   "source": [
    "import requests\n",
    "from bs4 import BeautifulSoup\n",
    "import json\n",
    "import re"
   ]
  },
  {
   "cell_type": "code",
   "execution_count": 227,
   "metadata": {},
   "outputs": [
    {
     "name": "stdout",
     "output_type": "stream",
     "text": [
      "[nltk_data] Downloading package wordnet to /home/twsea/nltk_data...\n",
      "[nltk_data]   Package wordnet is already up-to-date!\n",
      "[nltk_data] Downloading package stopwords to /home/twsea/nltk_data...\n",
      "[nltk_data]   Package stopwords is already up-to-date!\n"
     ]
    }
   ],
   "source": [
    "import pandas as pd\n",
    "import numpy as np\n",
    "from sklearn.feature_extraction.text import TfidfVectorizer, CountVectorizer\n",
    "from sklearn.linear_model import LogisticRegression\n",
    "from sklearn.pipeline import Pipeline\n",
    "from sklearn.model_selection import cross_val_score\n",
    "from sklearn.model_selection import GridSearchCV\n",
    "import nltk\n",
    "nltk.download('wordnet')\n",
    "nltk.download('stopwords')\n",
    "from nltk.stem import WordNetLemmatizer\n",
    "from nltk.stem.porter import PorterStemmer"
   ]
  },
  {
   "cell_type": "code",
   "execution_count": 203,
   "metadata": {},
   "outputs": [],
   "source": [
    "#рассматриваем две ситуации:\n",
    "#либо такого фильма не существует, тогда вылетает класс document.getElementsByClassName('textgreybig')\n",
    "#либо фильм существует"
   ]
  },
  {
   "cell_type": "code",
   "execution_count": 205,
   "metadata": {},
   "outputs": [],
   "source": [
    "name = 'елки'\n",
    "url = 'https://www.kinopoisk.ru/index.php?kp_query=' + name +'&what='\n",
    "r = requests.get(url)\n",
    "soup = BeautifulSoup(r.text, \"html.parser\")\n",
    "if (soup.findAll(\"p\", attrs={\"class\": [\"name\"]})): #если фильм существует\n",
    "    href = soup.findAll(\"p\", attrs={\"class\": [\"name\"]})[0].find('a')['href'] #ссылка на искомый фильм\n",
    "    title = soup.findAll(\"p\", attrs={\"class\": [\"name\"]})[0].find('a').text #название фильма\n",
    "    href = href[:len(href)-5] #обрезаю ссылку\n",
    "    #https://www.kinopoisk.ru/film/yolki-2010-493768/ord/rating/#list\n",
    "    #print(href)\n",
    "    new_url = 'https://www.kinopoisk.ru' + href + 'ord/rating/#list' #ссылка на отсортированные комменты (кнопка \"Все\")\n",
    "    #print(new_url)\n",
    "    #print(title)\n",
    "    r = requests.get(new_url)\n",
    "    soup = BeautifulSoup(r.text, \"html.parser\")\n",
    "    comments = []\n",
    "    for i in range(len(soup.findAll(\"div\", attrs={\"itemprop\": [\"reviews\"]}))):\n",
    "        comments.append(soup.findAll(\"div\", attrs={\"itemprop\": [\"reviews\"]})[i].findAll(\"span\", attrs={\"class\": [\"_reachbanner_\"]})[0].text)\n",
    "        comments[i] = comments[i].replace('\\n', ' ').replace('\\r', '').replace('\\t', '').replace(u'\\xa0', u' ').replace('\\x97', '—').replace('\\x85', '...').replace('\\x88', '^')\n",
    "else:\n",
    "    print('Введеное название фильма не найдено.')"
   ]
  },
  {
   "cell_type": "code",
   "execution_count": 228,
   "metadata": {},
   "outputs": [],
   "source": [
    "def parsing_reviews (film_name): #возвращает массив типа [название, отзывы, оценка]\n",
    "    url = 'https://www.kinopoisk.ru/index.php?kp_query=' + film_name +'&what='\n",
    "    r = requests.get(url)\n",
    "    soup = BeautifulSoup(r.text, \"html.parser\")\n",
    "    if (soup.findAll(\"p\", attrs={\"class\": [\"name\"]})): #если фильм существует\n",
    "        href = soup.findAll(\"p\", attrs={\"class\": [\"name\"]})[0].find('a')['href'] #ссылка на искомый фильм\n",
    "        title = soup.findAll(\"p\", attrs={\"class\": [\"name\"]})[0].find('a').text #название фильма\n",
    "        href = href[:len(href)-5] #обрезаю ссылку\n",
    "        new_url = 'https://www.kinopoisk.ru' + href + 'ord/rating/#list' #ссылка на отсортированные комменты (кнопка \"Все\")\n",
    "        r = requests.get(new_url)\n",
    "        soup = BeautifulSoup(r.text, \"html.parser\")\n",
    "        comments = []\n",
    "        #беру только 2 отзыва о фильме\n",
    "        length = 2 if len(soup.findAll(\"div\", attrs={\"itemprop\": [\"reviews\"]})) else len(soup.findAll(\"div\", attrs={\"itemprop\": [\"reviews\"]}))\n",
    "        for i in range(length):\n",
    "            comments.append(soup.findAll(\"div\", attrs={\"itemprop\": [\"reviews\"]})[i].findAll(\"span\", attrs={\"class\": [\"_reachbanner_\"]})[0].text)\n",
    "            comments[i] = comments[i].replace('\\n', ' ').replace('\\r', '').replace('\\t', '').replace(u'\\xa0', u' ').replace('\\x97', '—').replace('\\x85', '...').replace('\\x88', '^')\n",
    "        res = ''\n",
    "        for i in comments: #запихиваю 2 отзыва в 1 строку\n",
    "            res = res + i\n",
    "        assessment = float(soup.findAll(\"span\", attrs={\"class\": [\"rating_ball\"]})[0].text) \n",
    "        assessment = 0 if assessment < 6 else 1\n",
    "        return [film_name, res, assessment]\n",
    "    else:\n",
    "        print('Введеное название фильма не найдено.') "
   ]
  },
  {
   "cell_type": "code",
   "execution_count": 229,
   "metadata": {},
   "outputs": [
    {
     "data": {
      "text/plain": [
       "['Елки',\n",
       " 'Абсолютно ничего не ждав от данной картины, я решила не тратить свое время и пропустить просмотр «очередной русской комедии». Но вот четверг, утро, мне нужно скоротать 2 часа свободного времени. Альтернатив «Елкам» не нашлось, пришлось идти. Что же я увидела?  Во-первых, к своему удивлению фильм затянул, затянул в свою праздничную атмосферу. Ведь никогда мы не бываем столь близки к волшебству, как в Новый Год. Кстати, у большинства россиян Новый год является любимым праздником, в том числе и у меня, поэтому вся предновогодняя суета отражается в моем сердце яркими огоньками! И было чертовски приятно смотреть на происходящее на экране и осознавать, что любимый праздник уже через две недели!  Во-вторых, я с радостью обнаружила, что фильм не пародия, не римейк, не «оригинальный фильм, просто слизанный с ранее вышедшей зарубежной картины». В общем, в плане сценария провисаний не заметила. Может быть они и были, но, вы знаете, как-то не хочется их искать.  В-третьих, понравилось, что в фильм вложили душу, это чувствуется. У меня пару раз блестели слезы на глазах. Также создатели преподносят нам обилие смешных моментов, действительно смешных, а не «кто-то скорчил рожу и все посмеялись». Спасибо им за это.  В-четвертых, отличный саундтрек. А основная тема фильма теперь всегда будет ассоциироваться у меня с Новым Годом!  На актерах останавливаться не хочется, так как их много в картине, и не везде они удачно подобраны, к сожалению.  О минусах говорить не буду, ибо они есть и те же самые, что и обычно в российских картинах. Но в «Ёлках» они не бросаются в глаза столь сильно.  В итоге, хотелось бы сказать, что чудеса случаются! Это я теперь точно знаю, потому что вот вам наглядный пример — «Елки». Достойная российская комедия, даже самой не верится, что такое написала! Я очень советую посмотреть данный фильм, может он и не претендует на звание суперкомедии, но хорошее настроение вам обеспечит до конца дня!   Всех с наступающим Новым Годом!  P.S.: никогда не поздно все изменить...В принципе, если говорить «по чесноку», фильм оказался лучше, чем я ожидал. Представьте себе, понедельник, начало рабочей недели, а мне надо было убить несколько часов в первой половине дня, причем любым способом. Способ «убийства» пал на кинотеатр, а именно на сеанс «Елки», ибо ничего другого в тот час в кино просто тупо не шло. Словом, на фильм я попал более чем случайно, особенно учитывая тот факт, что наличие в анонсах традиционных русских фамилий типа Ургант и Бекмамбетов показалось мне изначально крайне подозрительным.  Могу смело сказать, что мне по большей части понравилось. Но говорить о плюсах слишком банально, особенно учитывая тот факт, что кино является что ни на есть «нашинским», отечественным продуктом, соответственно хвалить создателей просто небезопасно, поэтому я решил все же намекнуть на минусы, дабы подчеркнуть свое давнее стремление к идеалам — нет предела совершенству. На ошибках, друзья, надо учиться, поэтому о ним мы и будем говорить.  Итак, работа над ошибками.  1) Актерская игра. Это первое, что бросилось в глаза. Все как-то очень натянуто и притянуто. Гримасы детей детдомовцев (которые и на бездомных-то не были похожи), речь, зазубренные фразочки, мимика, движения — ну все это из разряда «Не верю!». Играли плохо практически все, очень много картонных шаблонов, никакой искры и эмоций. Людям не сочувствуешь и не переживаешь, ведь по глазам видно, что для них это просто съемки кино и у них на самом деле все хорошо, особенно у Урганта и Светлакова.  2) Сюжетные ляпы. Детдом — слишком там все добрые и чистые, тут бы неплохо было бы добавить драматизма и реализма. Глупость какая-то затея с этими «6-ю рукопожатиями», по сути полный бред. Вержбицкий, какой-то там служащий у президента, который ужинает в макдоналдсе. Это, ребята, вообще был абзац. Это где ж вы таких бедных служащих видели? Знали бы вы где и что они едят, обзавидовались бы. Затус Порошиной с оператором пожарной машины просто вынос мозга — представьте, что женщина на улице города останавливает пожарку, несущуюся в Новый год (!) на пожар и нагло требует, чтобы ее везли просто хрен знает куда. Вопрос: ее повезут? Или пошлют туда, куда она едет? Нормальный человек выберет второй вариант ответа. В фильме же все так просто. Ну просто сказка для взрослых, вспоминая глубину декольте Порошиной.  3) Реклама и пиар. Я, честно, просто устал от этого бесконечного бизнес-ланча от Бекмамбетова. Голос Хабенского, как обязательный атрибут любого русского фильма, Ургант, новая напасть с канала ТНТ — Светлаков, слава Богу без Джамшута и Мартиросяна обошлось, Вера Брежнева и т. п. Надоело мне смотреть на эти сытые лица, выражаясь мягким литературным языком. У нас не хватает молодых талантливых актеров? Их просто плохо ищут, поверьте. Я не думаю, что кто-то из простых смертных не осилил бы роль Брежневой к примеру — сидеть на заднем сидении тачки, в которой тебя куда-то везут и мило улыбаться. Хотелось бы в этом плане чего-то резко нового и свежего. Хватит уже «кормить» всю эту пресную тусовку московских «звездюлек», чес слово.   Минута молчания в дань поклонения рекламе. Соки, воды, спиртное, авиакомпания S7 Сибирь, всего и не упомнишь.   За рекламу сети тошниловок Макдоналдс просто убить мало, если честно. Я такого не ожидал даже от Бекмамбетова. Готов спорить, что он сам там ни разу не был. Воображаю, сколько пришлось заплатить Вержбицкому за дегустацию «картошки-фри»! Пару лимонов точно.   Доложусь, что у меня также складывается настойчивое впечатление, что пиар лиц «кавказских» национальностей тоже входит в задачу «Тимура и его команды». Уж больно добрыми их нам представляют. Поверить не могу, без них уже не обходится добрая новогодняя сказка! Как это мило.  Ситуация с пиаром и рекламой, в целом, лучше, чем была в Иронии Судьбы 2, но пока тоже ставим «неуд.»  4) Саунд-трек. Это отдельный разговор. Я не знаю чего там выпил композитор данного фильма, но незатейливые мотивы, отдаленно напоминающие нечто из «творчества» таких групп, как «Гости из будущего», «ВИАГРА», «Hi-Fi» мне все же удалось расслышать. Дай Бог, чтобы это было не так. Ибо в противном случае я покончу с собой, сбросившись с елки.  5) Операторская работа. Дрожащая камера а-ля кошмар на улице Вязов от Германики «Школа». Что называется до тошноты. Эти огромные ракурсы и наплывы на лица главных героев, чтобы можно было вплотную рассмотреть макияж, морщины, зубы и т. п. убивали, как ловушки «Комбат» тараканов, что называется просто наповал! Что ж, если так и дальше пойдет, то смело можно снимать волосы на затылке, вместо головы!  6) Типа спецэффекты. Нет. Компьютерная графика. Это, видимо, неотъемлемый атрибут всех фильмов Бекмамбетова. Типа ответ на вопрос — куда же девался бюджет! Что ж графика на твердую четверку, сравнивая с фантастикой 80-х. Неплохо. И что самое главное к месту. Это же новогодняя комедия.  В общем, итог пока что не очень.   Есть и плюсы, куда ж без них, но и минусов хватает. Как говорится, понадеялись на деда Мороза, а сами оплошали.  Садись, Тимур, плохо. Родителей в школу.   6 из 10',\n",
       " 1]"
      ]
     },
     "execution_count": 229,
     "metadata": {},
     "output_type": "execute_result"
    }
   ],
   "source": [
    "parsing_reviews('Елки')"
   ]
  },
  {
   "cell_type": "code",
   "execution_count": null,
   "metadata": {},
   "outputs": [],
   "source": []
  },
  {
   "cell_type": "code",
   "execution_count": null,
   "metadata": {},
   "outputs": [],
   "source": [
    "#нужны рейтинги измененные\n",
    "#нужно напарсить данные и разбить их на обучение и трейн.\n",
    "#как плохие фильмы брать, так и хорошие"
   ]
  },
  {
   "cell_type": "code",
   "execution_count": 207,
   "metadata": {},
   "outputs": [],
   "source": [
    "film_name = \"елки\"\n",
    "url = 'https://www.kinopoisk.ru/index.php?kp_query=' + film_name +'&what='\n",
    "r = requests.get(url)\n",
    "soup = BeautifulSoup(r.text, \"html.parser\")\n",
    "if (soup.findAll(\"p\", attrs={\"class\": [\"name\"]})): #если фильм существует\n",
    "    href = soup.findAll(\"p\", attrs={\"class\": [\"name\"]})[0].find('a')['href'] #ссылка на искомый фильм\n",
    "    title = soup.findAll(\"p\", attrs={\"class\": [\"name\"]})[0].find('a').text #название фильма\n",
    "    href = href[:len(href)-5] #обрезаю ссылку\n",
    "    new_url = 'https://www.kinopoisk.ru' + href + 'ord/rating/#list' #ссылка на отсортированные комменты (кнопка \"Все\")\n",
    "    r = requests.get(new_url)\n",
    "    soup = BeautifulSoup(r.text, \"html.parser\")\n",
    "else:\n",
    "    print('Введеное название фильма не найдено.') "
   ]
  },
  {
   "cell_type": "code",
   "execution_count": 215,
   "metadata": {},
   "outputs": [
    {
     "data": {
      "text/plain": [
       "6.877"
      ]
     },
     "execution_count": 215,
     "metadata": {},
     "output_type": "execute_result"
    }
   ],
   "source": [
    "float(soup.findAll(\"span\", attrs={\"class\": [\"rating_ball\"]})[0].text)"
   ]
  },
  {
   "cell_type": "code",
   "execution_count": null,
   "metadata": {},
   "outputs": [],
   "source": [
    "url = 'https://www.kinopoisk.ru/index.php?kp_query=' + film_name +'&what='\n",
    "r = requests.get(url)\n",
    "soup = BeautifulSoup(r.text, \"html.parser\")"
   ]
  }
 ],
 "metadata": {
  "kernelspec": {
   "display_name": "Python 3",
   "language": "python",
   "name": "python3"
  },
  "language_info": {
   "codemirror_mode": {
    "name": "ipython",
    "version": 3
   },
   "file_extension": ".py",
   "mimetype": "text/x-python",
   "name": "python",
   "nbconvert_exporter": "python",
   "pygments_lexer": "ipython3",
   "version": "3.6.5"
  }
 },
 "nbformat": 4,
 "nbformat_minor": 2
}
