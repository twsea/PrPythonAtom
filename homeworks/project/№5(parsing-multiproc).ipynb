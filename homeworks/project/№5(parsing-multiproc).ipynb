{
 "cells": [
  {
   "cell_type": "code",
   "execution_count": 2,
   "metadata": {},
   "outputs": [],
   "source": [
    "import requests\n",
    "from bs4 import BeautifulSoup\n",
    "from time import sleep\n",
    "import numpy as np "
   ]
  },
  {
   "cell_type": "code",
   "execution_count": 3,
   "metadata": {},
   "outputs": [],
   "source": [
    "from multiprocessing import Pool\n"
   ]
  },
  {
   "cell_type": "code",
   "execution_count": 8,
   "metadata": {},
   "outputs": [],
   "source": [
    "def parsing_reviews (film_name): #возвращает массив типа [название, отзывы, оценка]\n",
    "    \n",
    "    film_name_new = film_name.replace(' ','+')\n",
    "    url = 'https://www.imdb.com/find?ref_=nv_sr_fn&q='+ film_name_new + '&s=all'\n",
    "    r = requests.get(url)\n",
    "    soup = BeautifulSoup(r.text, \"html.parser\")\n",
    "    flag = 0\n",
    "    if (not soup.findAll(\"div\", attrs={\"class\": [\"findNoResults\"]})): #если фильм существует\n",
    "        if(soup.findAll(\"h3\", attrs={\"class\": [\"findSectionHeader\"]})):\n",
    "            if (soup.findAll(\"h3\", attrs={\"class\": [\"findSectionHeader\"]})[0].text == 'Titles'):\n",
    "                flag = 1\n",
    "\n",
    "    else:\n",
    "        print('Введеное название фильма не найдено.') \n",
    "        return 0 #TODO проработать возврат\n",
    "    if flag == 1:\n",
    "        href = soup.findAll(\"td\", attrs={\"class\": [\"result_text\"]})[0].find('a')['href'] #ссылка на искомый фильм\n",
    "        title = soup.findAll(\"td\", attrs={\"class\": [\"result_text\"]})[0].find('a').text #название фильма\n",
    "        #взять рейтинг на главной странице\n",
    "        url_main = 'https://www.imdb.com' + href\n",
    "        r = requests.get(url_main)\n",
    "        soup = BeautifulSoup(r.text, \"html.parser\")\n",
    "        if not soup.findAll(\"span\", attrs={\"itemprop\": [\"ratingValue\"]}):\n",
    "            return 0\n",
    "        rating = float(soup.findAll(\"span\", attrs={\"itemprop\": [\"ratingValue\"]})[0].text) \n",
    "        assessment = 0 if rating < 7.5 else 1\n",
    "        print(url)\n",
    "        #получить комментарии\n",
    "        position_of_question = href.find('?')\n",
    "        new_href = href[:position_of_question]\n",
    "        url_reviews = 'https://www.imdb.com' + new_href + 'reviews?spoiler=hide&sort=helpfulnessScore&dir=desc&ratingFilter=0' #ссылка на reviews\n",
    "        r = requests.get(url_reviews)\n",
    "        soup = BeautifulSoup(r.text, \"html.parser\")      \n",
    "        reviews = []\n",
    "\n",
    "        #брать все отзывы, но обрезать. 5 отзывов по 20 слов\n",
    "\n",
    "        length = 5 if len(soup.findAll(\"div\", attrs={\"class\": [\"content\"]})) > 5 else len(soup.findAll(\"div\", attrs={\"class\": [\"content\"]}))\n",
    "        \n",
    "        for i in range(length):\n",
    "            review = soup.findAll(\"div\", attrs={\"class\": [\"content\"]})[i].find('div').text\n",
    "            review = review.replace('\\n', ' ').replace('\\r', '').replace('\\t', '').replace(u'\\xa0', u' ').replace('\\x97', '—').replace('\\x85', '...').replace('\\x88', '^').replace(\"\\'\", \"'\")\n",
    "            index = 0\n",
    "            review = review[::-1]\n",
    "            if len(review) > 60:             \n",
    "                for i in range(60):\n",
    "                    index = review.find(' ', index+1)\n",
    "                review = review[:index] #обрезаем по 60 слов\n",
    "            review = review[::-1]\n",
    "            reviews.append(review)\n",
    "        \n",
    "        res = ''\n",
    "        for i in reviews: #запихиваю все отзывы в 1 строку\n",
    "            res = res + i + ' '\n",
    "        return [[film_name, res,rating, assessment]]\n",
    "    if 1 == 1:\n",
    "        return 0\n"
   ]
  },
  {
   "cell_type": "code",
   "execution_count": null,
   "metadata": {},
   "outputs": [],
   "source": []
  },
  {
   "cell_type": "code",
   "execution_count": 12,
   "metadata": {},
   "outputs": [],
   "source": [
    "films = ['ghf']"
   ]
  },
  {
   "cell_type": "code",
   "execution_count": 5,
   "metadata": {},
   "outputs": [],
   "source": [
    "with Pool(10) as p:\n",
    "    records = p.map(parse, cars_links)"
   ]
  },
  {
   "cell_type": "code",
   "execution_count": 6,
   "metadata": {},
   "outputs": [
    {
     "data": {
      "text/plain": [
       "[]"
      ]
     },
     "execution_count": 6,
     "metadata": {},
     "output_type": "execute_result"
    }
   ],
   "source": [
    "records"
   ]
  },
  {
   "cell_type": "code",
   "execution_count": 1,
   "metadata": {},
   "outputs": [],
   "source": [
    "items = [1, 2, 3, 4, 5]\n",
    "squared = list(map(lambda x: x**2, items))"
   ]
  },
  {
   "cell_type": "code",
   "execution_count": 2,
   "metadata": {},
   "outputs": [
    {
     "data": {
      "text/plain": [
       "[1, 4, 9, 16, 25]"
      ]
     },
     "execution_count": 2,
     "metadata": {},
     "output_type": "execute_result"
    }
   ],
   "source": [
    "squared"
   ]
  },
  {
   "cell_type": "code",
   "execution_count": null,
   "metadata": {},
   "outputs": [],
   "source": [
    "p = Pool(10)  # Pool tells how many at a time\n",
    "records = p.map(parsing_reviews, films)\n",
    "p.terminate()\n",
    "p.join()"
   ]
  },
  {
   "cell_type": "code",
   "execution_count": null,
   "metadata": {},
   "outputs": [],
   "source": []
  }
 ],
 "metadata": {
  "kernelspec": {
   "display_name": "Python 3",
   "language": "python",
   "name": "python3"
  },
  "language_info": {
   "codemirror_mode": {
    "name": "ipython",
    "version": 3
   },
   "file_extension": ".py",
   "mimetype": "text/x-python",
   "name": "python",
   "nbconvert_exporter": "python",
   "pygments_lexer": "ipython3",
   "version": "3.7.0"
  }
 },
 "nbformat": 4,
 "nbformat_minor": 2
}
