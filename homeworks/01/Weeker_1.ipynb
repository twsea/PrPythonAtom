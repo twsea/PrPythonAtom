{
 "cells": [
  {
   "cell_type": "markdown",
   "metadata": {},
   "source": [
    "# Недельник 1\n",
    "\n",
    "Как было сказано на лекции, на текущей неделе вы получаете ежедневные задания. Система оценки следующая: в первый день(четверг) вы делаете первый pull-request в ветку homework_01. Потом каждый день делаете коммит, он будет автоматически привязывать к pull-request. Если задачка не сделана в течении 2-х дней она сгорает. (Можно четверг сделать в четверг и пятницу)"
   ]
  },
  {
   "cell_type": "markdown",
   "metadata": {},
   "source": [
    "# Четверг"
   ]
  },
  {
   "cell_type": "code",
   "execution_count": 55,
   "metadata": {},
   "outputs": [],
   "source": [
    "#TODO Сделайте калькулятор произвольных выражений, операции следующие: +, -, /, *, ^. скобок нет\n",
    "def calculate(input_str):\n",
    "    i = len(input_str)-1\n",
    "    while i>0:\n",
    "        if i >= len(input_str):\n",
    "            i = len(input_str)-1\n",
    "        if input_str[i] == \"^\":\n",
    "            index_1 = i-1\n",
    "            index_2 = i+1\n",
    "            while True:\n",
    "                if index_1 == 0:\n",
    "                    break\n",
    "                if input_str[index_1] != '0' and input_str[index_1] != '1' and input_str[index_1] != '2' and input_str[index_1] != '3' and input_str[index_1] !='4' and input_str[index_1] != '5' and input_str[index_1] !='6' and input_str[index_1] !='7' and input_str[index_1] != '8' and input_str[index_1] != '9':\n",
    "                    break\n",
    "                index_1 = index_1 - 1\n",
    "            a = eval(input_str[index_1 : i])\n",
    "            while True:\n",
    "                if index_2 == len(input_str):\n",
    "                    break\n",
    "                if input_str[index_2] != '0' and input_str[index_2] != '1' and input_str[index_2] != '2' and input_str[index_2] != '3' and input_str[index_2] !='4' and input_str[index_2] != '5' and input_str[index_2] !='6' and input_str[index_2] !='7' and input_str[index_2] != '8' and input_str[index_2] != '9':\n",
    "                    break\n",
    "                index_2 = index_2 + 1\n",
    "            b = eval(input_str[i+1 : index_2])\n",
    "            res = a ** b\n",
    "            input_str = input_str.replace(input_str[index_1:index_2],str(res) +' ')\n",
    "        i = i - 1 \n",
    "    return eval(input_str)"
   ]
  },
  {
   "cell_type": "code",
   "execution_count": 56,
   "metadata": {
    "scrolled": true
   },
   "outputs": [],
   "source": [
    "assert calculate(\"2 + 2 * 2\") == 6\n",
    "assert calculate(\"345 / 5 * 21\") == 1449.\n",
    "assert calculate(\"3^3 - 10 + 41 * 3\") == 140\n",
    "assert calculate(\"42 / 7 * 32\") == 192.0\n",
    "\n",
    "assert calculate(\"2+0*4\") == 2\n",
    "assert calculate(\"48 / 2^3\") == 6"
   ]
  },
  {
   "cell_type": "markdown",
   "metadata": {},
   "source": [
    "# Пятница"
   ]
  },
  {
   "cell_type": "code",
   "execution_count": 14,
   "metadata": {},
   "outputs": [
    {
     "data": {
      "text/plain": [
       "'HELLO'"
      ]
     },
     "execution_count": 14,
     "metadata": {},
     "output_type": "execute_result"
    }
   ],
   "source": [
    "#TODO метод разворачивающий строку HE2LO -> HELLO (число означает сколько раз встречается буква)\n",
    "def transform_string(inp_str):\n",
    "    a = []\n",
    "    n = 0\n",
    "    new_str = []\n",
    "    for i in range(len(inp_str)):\n",
    "        if inp_str[i].isdigit():\n",
    "            if i == len(inp_str)-1:\n",
    "                break\n",
    "            a.append(inp_str[i])\n",
    "            n = n + 1 \n",
    "            if not inp_str[i+1].isdigit():\n",
    "                num = int(''.join(a))\n",
    "                n = 0\n",
    "                a = []\n",
    "                for w in range (num-1):\n",
    "                    new_str.append(inp_str[i+1])               \n",
    "        else:\n",
    "            new_str.append(inp_str[i])\n",
    "    return ''.join(new_str)\n",
    "transform_string(\"HE2LO\")"
   ]
  },
  {
   "cell_type": "code",
   "execution_count": 15,
   "metadata": {},
   "outputs": [],
   "source": [
    "assert transform_string(\"HE2LO\") == \"HELLO\"\n",
    "assert transform_string(\"HI\") == \"HI\"\n",
    "assert transform_string(\"пр12ивет\") == \"приииииииииииивет\"\n",
    "assert transform_string(\"2л3у78н65тик\") == 'ллуууннннннннннннннннннннннннннннннннннннннннннннннннннннннннннннннннннннннннннннннтттттттттттттттттттттттттттттттттттттттттттттттттттттттттттттттттик'\n",
    "\n",
    "assert transform_string(\"k2\") == \"k\"\n",
    "assert transform_string(\"3k2p2\") == \"kkkpp\""
   ]
  },
  {
   "cell_type": "markdown",
   "metadata": {},
   "source": [
    "# Суббота"
   ]
  },
  {
   "cell_type": "code",
   "execution_count": 18,
   "metadata": {},
   "outputs": [],
   "source": [
    "#TODO метод выводящий статистику по строке, кол-во гласных, согласных, цифр, строчных букв, прописных букв\n",
    "def string_stat(word):\n",
    "    vowels = 0\n",
    "    сonsonants = 0\n",
    "    digits = 0\n",
    "    lowercases = 0\n",
    "    capitals = 0\n",
    "    for letter in word:\n",
    "        if letter.isalpha():\n",
    "            if letter.islower():\n",
    "                lowercases += 1\n",
    "            else:\n",
    "                capitals += 1\n",
    "            if letter.lower() in 'aeiouyаеёиоуыэюя':\n",
    "                vowels += 1\n",
    "            else:\n",
    "                сonsonants += 1\n",
    "        elif letter.isdigit():\n",
    "            digits += 1\n",
    "    a = (vowels, сonsonants, digits, lowercases, capitals)\n",
    "    return a"
   ]
  },
  {
   "cell_type": "code",
   "execution_count": 19,
   "metadata": {},
   "outputs": [],
   "source": [
    "assert string_stat(\"Тевирп\") == (2, 4, 0, 5, 1)\n",
    "assert string_stat(\"КоРоВа4\") == (3, 3, 1, 3, 3)\n",
    "\n",
    "assert string_stat(\"4dsk-1A\") == (1, 3, 2, 3, 1)\n",
    "assert string_stat(\"Aa1\") == (2, 0, 1, 1, 1)"
   ]
  },
  {
   "cell_type": "markdown",
   "metadata": {},
   "source": [
    "# Воскресенье - ВЫХОДНОЙ"
   ]
  },
  {
   "cell_type": "markdown",
   "metadata": {},
   "source": [
    "# Понедельник"
   ]
  },
  {
   "cell_type": "code",
   "execution_count": 74,
   "metadata": {},
   "outputs": [
    {
     "data": {
      "text/plain": [
       "{'eatable': ['mango', 'banana']}"
      ]
     },
     "execution_count": 74,
     "metadata": {},
     "output_type": "execute_result"
    }
   ],
   "source": [
    "#TODO инвертируйте словарь из k - [v_1, v_2] в v_1 [k_1]\n",
    "# create new dict\n",
    "# key is only one\n",
    "# create list with current key then\n",
    "# make list of lists and write down there to the first place original key and to the other places values\n",
    "# если нет ключ\n",
    "def dict_inverter(dic):\n",
    "    a = []\n",
    "    new_dic = dict()   \n",
    "    for key in dic:\n",
    "        for i in range(len(dic[key])):\n",
    "            if not dic[key][i] in new_dic:\n",
    "                new_dic[dic[key][i]] = key\n",
    "            else:\n",
    "                a.append(new_dic[dic[key][i]])\n",
    "                a.append(key)\n",
    "                new_dic[dic[key][i]] = a\n",
    "                a = []               \n",
    "    return new_dic\n",
    "dict_inverter({\"mango\" : [\"eatable\"], \"banana\": [\"eatable\"]})"
   ]
  },
  {
   "cell_type": "code",
   "execution_count": 76,
   "metadata": {},
   "outputs": [],
   "source": [
    "assert dict_inverter({\"mango\" : [\"eatable\"], \"pillow\": [\"sleepable\"]}) == {\"eatable\": \"mango\", \"sleepable\": \"pillow\"}\n",
    "assert dict_inverter({\"mango\" : [\"eatable\", \"readable\"]}) == {\"readable\":\"mango\", \"eatable\":\"mango\"}\n",
    "assert dict_inverter({\"mango\" : [\"eatable\"], \"banana\": [\"eatable\"]}) == {\"eatable\": [\"mango\", \"banana\"]}\n",
    "\n",
    "assert dict_inverter({\"mango\" : [\"eatable\"], \"banana\": [\"eatable\", \"tasty\"]}) == {\"eatable\" : [\"mango\", \"banana\"], \"tasty\"}\n",
    "\n",
    "#TODO Один свой тест"
   ]
  },
  {
   "cell_type": "code",
   "execution_count": 67,
   "metadata": {},
   "outputs": [
    {
     "name": "stdout",
     "output_type": "stream",
     "text": [
      "a\n",
      "b\n",
      "c\n",
      "d\n"
     ]
    }
   ],
   "source": [
    "a = ['a','b','c','d']\n",
    "for k in a:\n",
    "    print(k)"
   ]
  },
  {
   "cell_type": "markdown",
   "metadata": {},
   "source": [
    "# Вторник"
   ]
  },
  {
   "cell_type": "code",
   "execution_count": null,
   "metadata": {},
   "outputs": [],
   "source": [
    "#TODO вывести уникальные элементы массива\n",
    "def uniq_array(input_arr):\n",
    "    return []"
   ]
  },
  {
   "cell_type": "code",
   "execution_count": null,
   "metadata": {},
   "outputs": [],
   "source": [
    "assert uniq_array([0]) == [0]\n",
    "assert uniq_array([0, 1, 2, 3]) == [0, 1, 2, 3]\n",
    "assert uniq_array([\"f\", \"t\", \"f\"]) == ['t', 'f']\n",
    "assert uniq_array(['rt', 'rt']) == ['rt']"
   ]
  }
 ],
 "metadata": {
  "kernelspec": {
   "display_name": "Python 3",
   "language": "python",
   "name": "python3"
  },
  "language_info": {
   "codemirror_mode": {
    "name": "ipython",
    "version": 3
   },
   "file_extension": ".py",
   "mimetype": "text/x-python",
   "name": "python",
   "nbconvert_exporter": "python",
   "pygments_lexer": "ipython3",
   "version": "3.6.5"
  }
 },
 "nbformat": 4,
 "nbformat_minor": 2
}
