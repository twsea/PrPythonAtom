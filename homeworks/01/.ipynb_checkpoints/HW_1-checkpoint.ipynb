{
 "cells": [
  {
   "cell_type": "code",
   "execution_count": null,
   "metadata": {},
   "outputs": [],
   "source": [
    "class HashMap:\n",
    "    \n",
    "    class Entry:\n",
    "        def __init__(self, key, value):\n",
    "            #TODO store key and value as attributes\n",
    "            \n",
    "        def get_key(self):\n",
    "            #TODO return key\n",
    "            \n",
    "        def get_value(self):\n",
    "            #TODO return value\n",
    "            \n",
    "        def __eq__(self, other):\n",
    "            #TODO реализовать функцию сравнения\n",
    "            #Пояснения: self - текущий объект entry, other - какой-то другой объект\n",
    "            #Какое условие на равенство объектов в ассоциативном массиве?\n",
    "            #Если объекты равны, то метод должен возвращать True, иначе False\n",
    "    \n",
    "    def __init__(self, bucket_num = 64):\n",
    "        #TODO Создать массив для бакетов\n",
    "\n",
    "    def get(self, key, default_value=None):\n",
    "        #TODO метод get, возвращающий значение, если оно присутствует, иначе default_value\n",
    "\n",
    "    def put(self, key, value):\n",
    "        #TODO метод put, кладет значение по ключу, в случае, если ключ уже присутствует он его заменяет\n",
    "\n",
    "    def __len__(self):\n",
    "        #TODO Возвращает количество Entry в массиве\n",
    "\n",
    "    def _get_hash(self, key):\n",
    "        #TODO Вернуть хеш от ключа, по которому он кладется в бакет\n",
    "\n",
    "    def _get_index(self, hash_value):\n",
    "        #TODO По значению хеша вернуть индекс элемента в массиве\n",
    "        \n",
    "    def values(self):\n",
    "        #TODO Задание со звездочкой!\n",
    "        #Должен возвращать генератор или итератор значений (на самом деле итератор, но не принципиально, через генераторы проще ИМХО)\n",
    "        \n",
    "    def keys(self):\n",
    "        #TODO Задание со звездочкой!\n",
    "        #Должен возвращать генератор или итератор ключей (на самом деле итератор, но не принципиально, через генераторы проще ИМХО)\n",
    "        \n",
    "    def items(self):\n",
    "        #TODO Задание со звездочкой!\n",
    "        #Должен возвращать генератор или итератор пар ключ и значение (tuples)\n",
    "        #(на самом деле итератор, но не принципиально, через генераторы проще ИМХО)\n",
    "        \n",
    "    def __str__(self):\n",
    "        #TODO Метод, вызываемый при вызове print, пофантазируйте, что можно написать\n"
   ]
  },
  {
   "cell_type": "code",
   "execution_count": null,
   "metadata": {},
   "outputs": [],
   "source": [
    "class HashSet(HashMap):\n",
    "   \n",
    "    def get(self, key, default_value=None):\n",
    "        #TODO достаточно переопределить данный метод\n",
    "\n",
    "    def put(self, key, value):\n",
    "        #TODO метод put, нужно переопределить данный метод\n",
    "\n",
    "    def __len__(self):\n",
    "        #TODO Возвращает количество Entry в массиве\n",
    "\n",
    "    def values(self):\n",
    "        #TODO Задание со звездочкой!\n",
    "        #Если делали, то нужно бы переопределить\n",
    "        #Должен возвращать генератор или итератор значений (на самом деле итератор, но не принципиально, через генераторы проще ИМХО)"
   ]
  }
 ],
 "metadata": {
  "kernelspec": {
   "display_name": "Python 3",
   "language": "python",
   "name": "python3"
  },
  "language_info": {
   "codemirror_mode": {
    "name": "ipython",
    "version": 3
   },
   "file_extension": ".py",
   "mimetype": "text/x-python",
   "name": "python",
   "nbconvert_exporter": "python",
   "pygments_lexer": "ipython3",
   "version": "3.6.5"
  }
 },
 "nbformat": 4,
 "nbformat_minor": 2
}
