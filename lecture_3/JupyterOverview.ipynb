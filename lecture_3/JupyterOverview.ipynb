{
 "cells": [
  {
   "cell_type": "markdown",
   "metadata": {},
   "source": [
    "# Simple shortcuts and magics"
   ]
  },
  {
   "cell_type": "code",
   "execution_count": 1,
   "metadata": {},
   "outputs": [
    {
     "name": "stdout",
     "output_type": "stream",
     "text": [
      "Requirement already satisfied: matplotlib in /home/twsea/anaconda3/lib/python3.6/site-packages (2.2.2)\n",
      "Requirement already satisfied: numpy>=1.7.1 in /home/twsea/anaconda3/lib/python3.6/site-packages (from matplotlib) (1.14.3)\n",
      "Requirement already satisfied: cycler>=0.10 in /home/twsea/anaconda3/lib/python3.6/site-packages (from matplotlib) (0.10.0)\n",
      "Requirement already satisfied: pyparsing!=2.0.4,!=2.1.2,!=2.1.6,>=2.0.1 in /home/twsea/anaconda3/lib/python3.6/site-packages (from matplotlib) (2.2.0)\n",
      "Requirement already satisfied: python-dateutil>=2.1 in /home/twsea/anaconda3/lib/python3.6/site-packages (from matplotlib) (2.7.3)\n",
      "Requirement already satisfied: pytz in /home/twsea/anaconda3/lib/python3.6/site-packages (from matplotlib) (2018.4)\n",
      "Requirement already satisfied: six>=1.10 in /home/twsea/anaconda3/lib/python3.6/site-packages (from matplotlib) (1.11.0)\n",
      "Requirement already satisfied: kiwisolver>=1.0.1 in /home/twsea/anaconda3/lib/python3.6/site-packages (from matplotlib) (1.0.1)\n",
      "Requirement already satisfied: setuptools in /home/twsea/anaconda3/lib/python3.6/site-packages (from kiwisolver>=1.0.1->matplotlib) (39.1.0)\n",
      "Requirement already satisfied: Flask in /home/twsea/anaconda3/lib/python3.6/site-packages (1.0.2)\n",
      "Requirement already satisfied: click>=5.1 in /home/twsea/anaconda3/lib/python3.6/site-packages (from Flask) (6.7)\n",
      "Requirement already satisfied: Jinja2>=2.10 in /home/twsea/anaconda3/lib/python3.6/site-packages (from Flask) (2.10)\n",
      "Requirement already satisfied: Werkzeug>=0.14 in /home/twsea/anaconda3/lib/python3.6/site-packages (from Flask) (0.14.1)\n",
      "Requirement already satisfied: itsdangerous>=0.24 in /home/twsea/anaconda3/lib/python3.6/site-packages (from Flask) (0.24)\n",
      "Requirement already satisfied: MarkupSafe>=0.23 in /home/twsea/anaconda3/lib/python3.6/site-packages (from Jinja2>=2.10->Flask) (1.0)\n"
     ]
    }
   ],
   "source": [
    "#Установим библиотеку для отрисовки графиков, если её у вас нет\n",
    "!pip install matplotlib\n",
    "!pip install Flask"
   ]
  },
  {
   "cell_type": "code",
   "execution_count": 9,
   "metadata": {},
   "outputs": [
    {
     "name": "stdout",
     "output_type": "stream",
     "text": [
      "Populating the interactive namespace from numpy and matplotlib\n"
     ]
    }
   ],
   "source": [
    "#Magic, который пишем чаще всего. Что он делает?\n",
    "#import numpy\n",
    "#import matplotlib\n",
    "#from matplotlib import pylab, mlab, pyplot\n",
    "#np = numpy\n",
    "#plt = pyplot\n",
    "#from IPython.display import display\n",
    "#from IPython.core.pylabtools import figsize, getfigs\n",
    "#from pylab import *\n",
    "#from numpy import *\n",
    "\n",
    "#и все это 1 строчкой! inline указывает, что вывод графиков будет в ноутбук (подробнее в документации: выбор движка)\n",
    "%pylab inline"
   ]
  },
  {
   "cell_type": "code",
   "execution_count": 10,
   "metadata": {},
   "outputs": [],
   "source": [
    "#Найдите magic, который записывает значение ячейки в файл. Создайте модуль hello.py, импортируйте из него hello_world\n",
    "def hello_world():\n",
    "    print(\"hello\")"
   ]
  },
  {
   "cell_type": "code",
   "execution_count": 11,
   "metadata": {},
   "outputs": [],
   "source": [
    "#Засеките время выполнения процедуры с помощью magic\n",
    "def count(start=0, end=10000):\n",
    "    for _ in range(start, end):\n",
    "        continue"
   ]
  },
  {
   "cell_type": "code",
   "execution_count": 12,
   "metadata": {},
   "outputs": [],
   "source": [
    "#Объедините эту ячейку и ячейку ниже с помощью shortcut\n",
    "def very_important_function():\n",
    "    start=\"end\""
   ]
  },
  {
   "cell_type": "code",
   "execution_count": 13,
   "metadata": {},
   "outputs": [],
   "source": [
    "    fucing_cat=\"change the cell\""
   ]
  },
  {
   "cell_type": "code",
   "execution_count": 14,
   "metadata": {},
   "outputs": [],
   "source": [
    "#Исправьте все хождения value в ячейке на name\n",
    "value=\"value_1\"\n",
    "value_value=\"value_value_2\""
   ]
  },
  {
   "cell_type": "code",
   "execution_count": 15,
   "metadata": {},
   "outputs": [
    {
     "name": "stdout",
     "output_type": "stream",
     "text": [
      "\n"
     ]
    }
   ],
   "source": [
    "#Содержание ячейки, запущенной второй\n",
    "print()"
   ]
  },
  {
   "cell_type": "markdown",
   "metadata": {},
   "source": [
    "# Numpy"
   ]
  },
  {
   "cell_type": "code",
   "execution_count": 22,
   "metadata": {},
   "outputs": [],
   "source": [
    "#Импортируем модуль\n",
    "import numpy as np"
   ]
  },
  {
   "cell_type": "code",
   "execution_count": 23,
   "metadata": {},
   "outputs": [],
   "source": [
    "#Создадим всякие массивчики\n",
    "string_array = np.array([\"строка\", 5])\n",
    "float_array = np.array([5., 5])\n",
    "float_array_2 = np.array([6.])\n",
    "int_array = np.array([5, 4])\n",
    "two_dimarray = np.array([[5, 4], [4, 6]])\n",
    "one_dimarray = np.array([[5, 4], [4]])"
   ]
  },
  {
   "cell_type": "code",
   "execution_count": 24,
   "metadata": {},
   "outputs": [
    {
     "ename": "TypeError",
     "evalue": "list indices must be integers or slices, not tuple",
     "output_type": "error",
     "traceback": [
      "\u001b[0;31m---------------------------------------------------------------------------\u001b[0m",
      "\u001b[0;31mTypeError\u001b[0m                                 Traceback (most recent call last)",
      "\u001b[0;32m<ipython-input-24-e70637e6a058>\u001b[0m in \u001b[0;36m<module>\u001b[0;34m()\u001b[0m\n\u001b[1;32m      1\u001b[0m \u001b[0;31m#К массивам можно обращаться по 2 индексам. Возможны срезы по нескольким осям\u001b[0m\u001b[0;34m\u001b[0m\u001b[0;34m\u001b[0m\u001b[0m\n\u001b[1;32m      2\u001b[0m \u001b[0mexample_list\u001b[0m \u001b[0;34m=\u001b[0m \u001b[0;34m[\u001b[0m\u001b[0;34m[\u001b[0m\u001b[0;36m5\u001b[0m\u001b[0;34m,\u001b[0m \u001b[0;36m4\u001b[0m\u001b[0;34m]\u001b[0m\u001b[0;34m,\u001b[0m \u001b[0;34m[\u001b[0m\u001b[0;36m7\u001b[0m\u001b[0;34m,\u001b[0m \u001b[0;36m8\u001b[0m\u001b[0;34m]\u001b[0m\u001b[0;34m]\u001b[0m\u001b[0;34m\u001b[0m\u001b[0m\n\u001b[0;32m----> 3\u001b[0;31m \u001b[0mexample_list\u001b[0m\u001b[0;34m[\u001b[0m\u001b[0;34m:\u001b[0m\u001b[0;34m,\u001b[0m \u001b[0;36m1\u001b[0m\u001b[0;34m]\u001b[0m\u001b[0;34m\u001b[0m\u001b[0m\n\u001b[0m",
      "\u001b[0;31mTypeError\u001b[0m: list indices must be integers or slices, not tuple"
     ]
    }
   ],
   "source": [
    "#К массивам можно обращаться по 2 индексам. Возможны срезы по нескольким осям\n",
    "example_list = [[5, 4], [7, 8]]\n",
    "example_list[:, 1]"
   ]
  },
  {
   "cell_type": "code",
   "execution_count": 25,
   "metadata": {},
   "outputs": [
    {
     "data": {
      "text/plain": [
       "array([4, 8])"
      ]
     },
     "execution_count": 25,
     "metadata": {},
     "output_type": "execute_result"
    }
   ],
   "source": [
    "example_arr = np.array([[5, 4], [7, 8]])\n",
    "example_arr[:, 1]"
   ]
  },
  {
   "cell_type": "code",
   "execution_count": 26,
   "metadata": {},
   "outputs": [
    {
     "name": "stdout",
     "output_type": "stream",
     "text": [
      "Размерность вдоль первой оси: 2\n",
      "Размерность массива: (2, 2)\n",
      "Тип данных в массиве: int64\n",
      "Размер исходного массива 144\n",
      "Размер массива после преобразования 116\n"
     ]
    }
   ],
   "source": [
    "#Можно получить параметры массива: тип данных, форму, размерность вдоль оси\n",
    "two_dimarray = np.array([[5, 4], [4, 6]])\n",
    "print(\"Размерность вдоль первой оси: {}\".format(len(two_dimarray)))\n",
    "print(\"Размерность массива: {}\".format(two_dimarray.shape))\n",
    "print(\"Тип данных в массиве: {}\".format(two_dimarray.dtype))\n",
    "\n",
    "#Давайте пожмем наш int64 до int8 (преподложим, что знаем ограничение на размер чисел)\n",
    "import sys\n",
    "print(\"Размер исходного массива %d\" % sys.getsizeof(two_dimarray))\n",
    "two_dimarray = two_dimarray.astype(np.int8)\n",
    "print(\"Размер массива после преобразования %d\" % sys.getsizeof(two_dimarray))"
   ]
  },
  {
   "cell_type": "code",
   "execution_count": 27,
   "metadata": {},
   "outputs": [
    {
     "name": "stdout",
     "output_type": "stream",
     "text": [
      "[1. 1. 1.]\n",
      "[0. 0. 0. 0.]\n"
     ]
    }
   ],
   "source": [
    "oneses = np.ones(3)\n",
    "zeros = np.zeros(4)\n",
    "print(oneses)\n",
    "print(zeros)"
   ]
  },
  {
   "cell_type": "code",
   "execution_count": 28,
   "metadata": {},
   "outputs": [],
   "source": [
    "def simple_matrix_generator(n):\n",
    "    #TODO создать единичную матрицу размера n x n в виде numpy array\n",
    "    return "
   ]
  },
  {
   "cell_type": "code",
   "execution_count": 29,
   "metadata": {},
   "outputs": [
    {
     "ename": "AssertionError",
     "evalue": "",
     "output_type": "error",
     "traceback": [
      "\u001b[0;31m---------------------------------------------------------------------------\u001b[0m",
      "\u001b[0;31mAssertionError\u001b[0m                            Traceback (most recent call last)",
      "\u001b[0;32m<ipython-input-29-79c60acc336d>\u001b[0m in \u001b[0;36m<module>\u001b[0;34m()\u001b[0m\n\u001b[0;32m----> 1\u001b[0;31m \u001b[0;32massert\u001b[0m \u001b[0mnp\u001b[0m\u001b[0;34m.\u001b[0m\u001b[0marray_equal\u001b[0m\u001b[0;34m(\u001b[0m\u001b[0msimple_matrix_generator\u001b[0m\u001b[0;34m(\u001b[0m\u001b[0;36m4\u001b[0m\u001b[0;34m)\u001b[0m\u001b[0;34m,\u001b[0m \u001b[0mnp\u001b[0m\u001b[0;34m.\u001b[0m\u001b[0marray\u001b[0m\u001b[0;34m(\u001b[0m\u001b[0;34m[\u001b[0m\u001b[0;34m[\u001b[0m\u001b[0;36m1.\u001b[0m\u001b[0;34m,\u001b[0m \u001b[0;36m0.\u001b[0m\u001b[0;34m,\u001b[0m \u001b[0;36m0.\u001b[0m\u001b[0;34m,\u001b[0m \u001b[0;36m0.\u001b[0m\u001b[0;34m]\u001b[0m\u001b[0;34m,\u001b[0m \u001b[0;34m[\u001b[0m\u001b[0;36m0.\u001b[0m\u001b[0;34m,\u001b[0m \u001b[0;36m1.\u001b[0m\u001b[0;34m,\u001b[0m \u001b[0;36m0.\u001b[0m\u001b[0;34m,\u001b[0m \u001b[0;36m0.\u001b[0m\u001b[0;34m]\u001b[0m\u001b[0;34m,\u001b[0m \u001b[0;34m[\u001b[0m\u001b[0;36m0.\u001b[0m\u001b[0;34m,\u001b[0m \u001b[0;36m0.\u001b[0m\u001b[0;34m,\u001b[0m \u001b[0;36m1.\u001b[0m\u001b[0;34m,\u001b[0m \u001b[0;36m0.\u001b[0m\u001b[0;34m]\u001b[0m\u001b[0;34m,\u001b[0m \u001b[0;34m[\u001b[0m\u001b[0;36m0.\u001b[0m\u001b[0;34m,\u001b[0m \u001b[0;36m0.\u001b[0m\u001b[0;34m,\u001b[0m \u001b[0;36m0.\u001b[0m\u001b[0;34m,\u001b[0m \u001b[0;36m1.\u001b[0m\u001b[0;34m]\u001b[0m\u001b[0;34m]\u001b[0m\u001b[0;34m)\u001b[0m\u001b[0;34m)\u001b[0m\u001b[0;34m\u001b[0m\u001b[0m\n\u001b[0m\u001b[1;32m      2\u001b[0m \u001b[0;32massert\u001b[0m \u001b[0mnp\u001b[0m\u001b[0;34m.\u001b[0m\u001b[0marray_equal\u001b[0m\u001b[0;34m(\u001b[0m\u001b[0msimple_matrix_generator\u001b[0m\u001b[0;34m(\u001b[0m\u001b[0;36m3\u001b[0m\u001b[0;34m)\u001b[0m\u001b[0;34m,\u001b[0m \u001b[0mnp\u001b[0m\u001b[0;34m.\u001b[0m\u001b[0marray\u001b[0m\u001b[0;34m(\u001b[0m\u001b[0;34m[\u001b[0m\u001b[0;34m[\u001b[0m\u001b[0;36m1.\u001b[0m\u001b[0;34m,\u001b[0m \u001b[0;36m0.\u001b[0m\u001b[0;34m,\u001b[0m \u001b[0;36m0.\u001b[0m\u001b[0;34m]\u001b[0m\u001b[0;34m,\u001b[0m \u001b[0;34m[\u001b[0m\u001b[0;36m0.\u001b[0m\u001b[0;34m,\u001b[0m \u001b[0;36m1.\u001b[0m\u001b[0;34m,\u001b[0m \u001b[0;36m0.\u001b[0m\u001b[0;34m]\u001b[0m\u001b[0;34m,\u001b[0m \u001b[0;34m[\u001b[0m\u001b[0;36m0.\u001b[0m\u001b[0;34m,\u001b[0m \u001b[0;36m0.\u001b[0m\u001b[0;34m,\u001b[0m \u001b[0;36m1.\u001b[0m\u001b[0;34m]\u001b[0m\u001b[0;34m]\u001b[0m\u001b[0;34m)\u001b[0m\u001b[0;34m)\u001b[0m\u001b[0;34m\u001b[0m\u001b[0m\n\u001b[1;32m      3\u001b[0m \u001b[0;32massert\u001b[0m \u001b[0mnp\u001b[0m\u001b[0;34m.\u001b[0m\u001b[0marray_equal\u001b[0m\u001b[0;34m(\u001b[0m\u001b[0msimple_matrix_generator\u001b[0m\u001b[0;34m(\u001b[0m\u001b[0;36m2\u001b[0m\u001b[0;34m)\u001b[0m\u001b[0;34m,\u001b[0m \u001b[0mnp\u001b[0m\u001b[0;34m.\u001b[0m\u001b[0marray\u001b[0m\u001b[0;34m(\u001b[0m\u001b[0;34m[\u001b[0m\u001b[0;34m[\u001b[0m\u001b[0;36m1.\u001b[0m\u001b[0;34m,\u001b[0m \u001b[0;36m0.\u001b[0m\u001b[0;34m]\u001b[0m\u001b[0;34m,\u001b[0m \u001b[0;34m[\u001b[0m\u001b[0;36m0.\u001b[0m\u001b[0;34m,\u001b[0m \u001b[0;36m1.\u001b[0m\u001b[0;34m]\u001b[0m\u001b[0;34m]\u001b[0m\u001b[0;34m)\u001b[0m\u001b[0;34m)\u001b[0m\u001b[0;34m\u001b[0m\u001b[0m\n",
      "\u001b[0;31mAssertionError\u001b[0m: "
     ]
    }
   ],
   "source": [
    "assert np.array_equal(simple_matrix_generator(4), np.array([[1., 0., 0., 0.], [0., 1., 0., 0.], [0., 0., 1., 0.], [0., 0., 0., 1.]]))\n",
    "assert np.array_equal(simple_matrix_generator(3), np.array([[1., 0., 0.], [0., 1., 0.], [0., 0., 1.]]))\n",
    "assert np.array_equal(simple_matrix_generator(2), np.array([[1., 0.], [0., 1.]]))"
   ]
  },
  {
   "cell_type": "code",
   "execution_count": 31,
   "metadata": {},
   "outputs": [
    {
     "name": "stdout",
     "output_type": "stream",
     "text": [
      "[5 4 7 8]\n",
      "[[5 4]\n",
      " [7 8]]\n",
      "[5 4 7 8]\n"
     ]
    }
   ],
   "source": [
    "#Преобразование формы массива \n",
    "example = np.array([5, 4, 7, 8])\n",
    "print(example)\n",
    "print(example.reshape(2, 2))\n",
    "print(example.reshape(2, 2).flatten())"
   ]
  },
  {
   "cell_type": "code",
   "execution_count": 32,
   "metadata": {},
   "outputs": [
    {
     "name": "stdout",
     "output_type": "stream",
     "text": [
      "[5. 6. 5. 6.]\n",
      "[[5.]\n",
      " [6.]\n",
      " [5.]\n",
      " [6.]]\n",
      "[[5. 5.]\n",
      " [6. 6.]]\n",
      "[[5.]\n",
      " [6.]\n",
      " [5.]\n",
      " [6.]]\n",
      "[[5. 5.]\n",
      " [6. 6.]]\n"
     ]
    }
   ],
   "source": [
    "# Массивы можно по-разному объединять и добавлять элементы\n",
    "example = np.array([5., 6.])\n",
    "example = np.append(example, example)\n",
    "print(example)\n",
    "example = np.array([[5.], [6.]])\n",
    "print(np.concatenate((example, example), axis=0))\n",
    "print(np.concatenate((example, example), axis=1))\n",
    "print(np.vstack((example, example)))\n",
    "print(np.hstack((example, example)))"
   ]
  },
  {
   "cell_type": "code",
   "execution_count": 33,
   "metadata": {},
   "outputs": [
    {
     "name": "stdout",
     "output_type": "stream",
     "text": [
      "[2.5 2.  3.5 4. ]\n",
      "[15 12 21 24]\n",
      "[37 36 39 40]\n",
      "[4 3 6 7]\n",
      "[25 16 49 64]\n",
      "Multidemensional\n",
      "[[2.5 2. ]\n",
      " [3.5 4. ]]\n",
      "[[15 12]\n",
      " [21 24]]\n",
      "[[37 36]\n",
      " [39 40]]\n",
      "[[4 3]\n",
      " [6 7]]\n",
      "[[25 16]\n",
      " [49 64]]\n",
      "Lessdimensional\n",
      "[[2.5        1.33333333]\n",
      " [3.5        2.66666667]]\n",
      "[[10 12]\n",
      " [14 24]]\n",
      "[[ 7  7]\n",
      " [ 9 11]]\n",
      "[[3 1]\n",
      " [5 5]]\n",
      "[[ 25  64]\n",
      " [ 49 512]]\n"
     ]
    }
   ],
   "source": [
    "#Над массивами numpy можно производить простейшие математические операции\n",
    "example = np.array([5, 4, 7, 8])\n",
    "print(example / 2)\n",
    "print(example * 3)\n",
    "print(example + 32)\n",
    "print(example - 1)\n",
    "print(example ** 2)\n",
    "print(\"Multidemensional\")\n",
    "example = np.array([[5, 4], [7, 8]])\n",
    "print(example / 2)\n",
    "print(example * 3)\n",
    "print(example + 32)\n",
    "print(example - 1)\n",
    "print(example ** 2)\n",
    "print(\"Lessdimensional\")\n",
    "example = np.array([[5, 4], [7, 8]])\n",
    "sep_arr = np.array([2, 3])\n",
    "print(example / sep_arr)\n",
    "print(example * sep_arr)\n",
    "print(example + sep_arr)\n",
    "print(example - sep_arr)\n",
    "print(example ** sep_arr)"
   ]
  },
  {
   "cell_type": "code",
   "execution_count": 34,
   "metadata": {},
   "outputs": [
    {
     "name": "stdout",
     "output_type": "stream",
     "text": [
      "[[5 7]\n",
      " [4 8]]\n"
     ]
    }
   ],
   "source": [
    "#Можно производить стандартные операции над векторами n-мерного пространства\n",
    "example = np.array([[5, 4], [7, 8]])\n",
    "print(example.transpose())"
   ]
  },
  {
   "cell_type": "code",
   "execution_count": 35,
   "metadata": {},
   "outputs": [],
   "source": [
    "#И снова калькулятор\n",
    "def calculate(a, b=None, func=\"+\"):\n",
    "    #TODO Ну мы такое уже писали, кажется, совсем просто\n",
    "    if func == \"+\":\n",
    "        return \n",
    "    if func == \"-\":\n",
    "        return \n",
    "    if func == \"**\":\n",
    "        return \n",
    "    if func == \"*\":\n",
    "        return \n",
    "    if func == \"/\":\n",
    "        return \n",
    "    if func == \"T\":\n",
    "        return \n",
    "    if func == \"increment\":\n",
    "        #TODO увеличвает на 1 ДИАГОНАЛЬНЫЕ элементы, если матрица квадратная, иначе возвращает исходную матрицу\n",
    "        return \n",
    "    #Примените func ко всем эементам a\n",
    "    return "
   ]
  },
  {
   "cell_type": "code",
   "execution_count": 36,
   "metadata": {},
   "outputs": [
    {
     "ename": "AssertionError",
     "evalue": "",
     "output_type": "error",
     "traceback": [
      "\u001b[0;31m---------------------------------------------------------------------------\u001b[0m",
      "\u001b[0;31mAssertionError\u001b[0m                            Traceback (most recent call last)",
      "\u001b[0;32m<ipython-input-36-5faa62815c40>\u001b[0m in \u001b[0;36m<module>\u001b[0;34m()\u001b[0m\n\u001b[1;32m      2\u001b[0m \u001b[0msample_vec\u001b[0m \u001b[0;34m=\u001b[0m \u001b[0mnp\u001b[0m\u001b[0;34m.\u001b[0m\u001b[0marray\u001b[0m\u001b[0;34m(\u001b[0m\u001b[0;34m[\u001b[0m\u001b[0;36m2\u001b[0m\u001b[0;34m,\u001b[0m \u001b[0;36m4\u001b[0m\u001b[0;34m,\u001b[0m \u001b[0;36m10\u001b[0m\u001b[0;34m]\u001b[0m\u001b[0;34m)\u001b[0m\u001b[0;34m\u001b[0m\u001b[0m\n\u001b[1;32m      3\u001b[0m \u001b[0;34m\u001b[0m\u001b[0m\n\u001b[0;32m----> 4\u001b[0;31m \u001b[0;32massert\u001b[0m \u001b[0mnp\u001b[0m\u001b[0;34m.\u001b[0m\u001b[0marray_equal\u001b[0m\u001b[0;34m(\u001b[0m\u001b[0mcalculate\u001b[0m\u001b[0;34m(\u001b[0m\u001b[0mexample\u001b[0m\u001b[0;34m,\u001b[0m \u001b[0msample_vec\u001b[0m\u001b[0;34m,\u001b[0m \u001b[0;34m\"/\"\u001b[0m\u001b[0;34m)\u001b[0m\u001b[0;34m,\u001b[0m \u001b[0mnp\u001b[0m\u001b[0;34m.\u001b[0m\u001b[0marray\u001b[0m\u001b[0;34m(\u001b[0m\u001b[0;34m[\u001b[0m\u001b[0;34m[\u001b[0m \u001b[0;36m0.5\u001b[0m \u001b[0;34m,\u001b[0m  \u001b[0;36m0.5\u001b[0m \u001b[0;34m,\u001b[0m  \u001b[0;36m0.3\u001b[0m \u001b[0;34m]\u001b[0m\u001b[0;34m,\u001b[0m \u001b[0;34m[\u001b[0m \u001b[0;36m2.\u001b[0m  \u001b[0;34m,\u001b[0m  \u001b[0;36m1.25\u001b[0m\u001b[0;34m,\u001b[0m  \u001b[0;36m0.6\u001b[0m \u001b[0;34m]\u001b[0m\u001b[0;34m,\u001b[0m \u001b[0;34m[\u001b[0m \u001b[0;36m3.5\u001b[0m \u001b[0;34m,\u001b[0m  \u001b[0;36m2.\u001b[0m  \u001b[0;34m,\u001b[0m  \u001b[0;36m0.9\u001b[0m \u001b[0;34m]\u001b[0m\u001b[0;34m]\u001b[0m\u001b[0;34m)\u001b[0m\u001b[0;34m)\u001b[0m\u001b[0;34m\u001b[0m\u001b[0m\n\u001b[0m\u001b[1;32m      5\u001b[0m assert np.array_equal(calculate(example, 20, \"/\"), np.array([[ 0.05,  0.1 ,  0.15],\n\u001b[1;32m      6\u001b[0m                                                              \u001b[0;34m[\u001b[0m \u001b[0;36m0.2\u001b[0m \u001b[0;34m,\u001b[0m  \u001b[0;36m0.25\u001b[0m\u001b[0;34m,\u001b[0m  \u001b[0;36m0.3\u001b[0m \u001b[0;34m]\u001b[0m\u001b[0;34m,\u001b[0m\u001b[0;34m\u001b[0m\u001b[0m\n",
      "\u001b[0;31mAssertionError\u001b[0m: "
     ]
    }
   ],
   "source": [
    "example = np.array([[1, 2, 3], [4, 5, 6], [7, 8, 9]])\n",
    "sample_vec = np.array([2, 4, 10])\n",
    "\n",
    "assert np.array_equal(calculate(example, sample_vec, \"/\"), np.array([[ 0.5 ,  0.5 ,  0.3 ], [ 2.  ,  1.25,  0.6 ], [ 3.5 ,  2.  ,  0.9 ]]))\n",
    "assert np.array_equal(calculate(example, 20, \"/\"), np.array([[ 0.05,  0.1 ,  0.15],\n",
    "                                                             [ 0.2 ,  0.25,  0.3 ],\n",
    "                                                             [ 0.35,  0.4 ,  0.45]]))\n",
    "assert np.array_equal(calculate(example, 20, \"+\"), np.array([[21, 22, 23],\n",
    "                                                             [24, 25, 26],\n",
    "                                                             [27, 28, 29]]))\n",
    "assert np.array_equal(calculate(example, sample_vec, \"+\"), np.array([[ 3,  6, 13],\n",
    "                                                                     [ 6,  9, 16],\n",
    "                                                                     [ 9, 12, 19]]))\n",
    "assert np.array_equal(calculate(example, 20, \"*\"), np.array([[ 20,  40,  60],\n",
    "                                                             [ 80, 100, 120],\n",
    "                                                             [140, 160, 180]]))\n",
    "assert np.array_equal(calculate(example, sample_vec, \"*\"), np.array([[ 2,  8, 30],\n",
    "                                                                     [ 8, 20, 60],\n",
    "                                                                     [14, 32, 90]]))\n",
    "assert np.array_equal(calculate(example, 20, \"-\"), np.array([[-19, -18, -17],\n",
    "                                                             [-16, -15, -14],\n",
    "                                                             [-13, -12, -11]]))\n",
    "assert np.array_equal(calculate(example, sample_vec, \"-\"), np.array([[-1, -2, -7],\n",
    "                                                                     [ 2,  1, -4],\n",
    "                                                                     [ 5,  4, -1]]))\n",
    "assert np.array_equal(calculate(example, func=\"T\"), np.array([[1, 4, 7],\n",
    "                                                              [2, 5, 8],\n",
    "                                                              [3, 6, 9]]))\n",
    "assert np.array_equal(calculate(example, sample_vec, \"**\"), np.array([[         1,         16,      59049],\n",
    "                                                                [        16,        625,   60466176],\n",
    "                                                                [        49,       4096, 3486784401]]))\n",
    "\n",
    "#!!!ALARM почему отрицательное число?\n",
    "assert np.array_equal(calculate(example, 20, \"**\"), np.array([[                   1,              1048576,           3486784401],\n",
    "                                                              [       1099511627776,       95367431640625,     3656158440062976],\n",
    "                                                              [   79792266297612000,  1152921504606846976, -9223372036854775808]]))\n",
    "\n",
    "assert np.array_equal(calculate(example, func=\"increment\"), np.array([[  2.,   2.,   3.],\n",
    "                                                                     [  4.,   6.,   6.],\n",
    "                                                                     [  7.,   8.,  10.]]))\n",
    "assert np.array_equal(calculate(sample_vec, func=\"increment\"), sample_vec)"
   ]
  },
  {
   "cell_type": "code",
   "execution_count": 37,
   "metadata": {},
   "outputs": [
    {
     "name": "stdout",
     "output_type": "stream",
     "text": [
      "24\n",
      "[12 12]\n",
      "[ 9 15]\n"
     ]
    }
   ],
   "source": [
    "#Можно считать различные статистикиЮ суммы и другие значения по выбранной оси\n",
    "example = np.array([[5, 4], [7, 8]])\n",
    "print(example.sum())\n",
    "print(example.sum(axis=0))\n",
    "print(example.sum(axis=1))\n",
    "\n",
    "#TODO Найти минимум по столбцам, максимум по строкам, среднее значение всей матриц, дисперсию по строкам и аргминимум по строке"
   ]
  },
  {
   "cell_type": "code",
   "execution_count": 38,
   "metadata": {},
   "outputs": [
    {
     "data": {
      "text/plain": [
       "array([5, 7, 8])"
      ]
     },
     "execution_count": 38,
     "metadata": {},
     "output_type": "execute_result"
    }
   ],
   "source": [
    "#Методы выбора\n",
    "example = np.array([[5, 4], [7, 8]])\n",
    "example[example >= 5]"
   ]
  },
  {
   "cell_type": "code",
   "execution_count": 39,
   "metadata": {},
   "outputs": [
    {
     "data": {
      "text/plain": [
       "5.0"
      ]
     },
     "execution_count": 39,
     "metadata": {},
     "output_type": "execute_result"
    }
   ],
   "source": [
    "#Просто скалярное произведение\n",
    "a = np.array([1, 2, 3], float)\n",
    "b = np.array([0, 1, 1], float)\n",
    "np.dot(a, b)"
   ]
  },
  {
   "cell_type": "code",
   "execution_count": 40,
   "metadata": {},
   "outputs": [],
   "source": [
    "#TODO Линейные уравнения можно решать следующим образом: Ax = y, где A-матрица. \n",
    "#A^(T)Ax=A^(T)y\n",
    "#x=(A^(T)A)^(-1)A^(T)y\n",
    "#давайте сделаю свою решалку таких уравнений\n",
    "#HINT: np.linalg...\n",
    "def solution_finder(A, y):\n",
    "    return \n"
   ]
  },
  {
   "cell_type": "code",
   "execution_count": 41,
   "metadata": {},
   "outputs": [],
   "source": [
    "#TODO решить систему методом Крамера\n",
    "#HINT: np.linalg.det\n",
    "def cramer_solver(A, b):\n",
    "    return"
   ]
  },
  {
   "cell_type": "code",
   "execution_count": 42,
   "metadata": {},
   "outputs": [
    {
     "ename": "TypeError",
     "evalue": "ufunc 'isfinite' not supported for the input types, and the inputs could not be safely coerced to any supported types according to the casting rule ''safe''",
     "output_type": "error",
     "traceback": [
      "\u001b[0;31m---------------------------------------------------------------------------\u001b[0m",
      "\u001b[0;31mTypeError\u001b[0m                                 Traceback (most recent call last)",
      "\u001b[0;32m<ipython-input-42-bae32c639a41>\u001b[0m in \u001b[0;36m<module>\u001b[0;34m()\u001b[0m\n\u001b[1;32m      2\u001b[0m \u001b[0msample_vec\u001b[0m \u001b[0;34m=\u001b[0m \u001b[0mnp\u001b[0m\u001b[0;34m.\u001b[0m\u001b[0marray\u001b[0m\u001b[0;34m(\u001b[0m\u001b[0;34m[\u001b[0m\u001b[0;36m1\u001b[0m\u001b[0;34m,\u001b[0m \u001b[0;36m2\u001b[0m\u001b[0;34m]\u001b[0m\u001b[0;34m)\u001b[0m\u001b[0;34m\u001b[0m\u001b[0m\n\u001b[1;32m      3\u001b[0m \u001b[0;34m\u001b[0m\u001b[0m\n\u001b[0;32m----> 4\u001b[0;31m \u001b[0;32massert\u001b[0m \u001b[0mnp\u001b[0m\u001b[0;34m.\u001b[0m\u001b[0mallclose\u001b[0m\u001b[0;34m(\u001b[0m\u001b[0mcramer_solver\u001b[0m\u001b[0;34m(\u001b[0m\u001b[0mexample\u001b[0m\u001b[0;34m,\u001b[0m \u001b[0msample_vec\u001b[0m\u001b[0;34m)\u001b[0m\u001b[0;34m,\u001b[0m \u001b[0mnp\u001b[0m\u001b[0;34m.\u001b[0m\u001b[0marray\u001b[0m\u001b[0;34m(\u001b[0m\u001b[0;34m[\u001b[0m\u001b[0;36m0.0\u001b[0m\u001b[0;34m,\u001b[0m \u001b[0;36m0.25\u001b[0m\u001b[0;34m]\u001b[0m\u001b[0;34m)\u001b[0m\u001b[0;34m)\u001b[0m\u001b[0;34m\u001b[0m\u001b[0m\n\u001b[0m\u001b[1;32m      5\u001b[0m \u001b[0;34m\u001b[0m\u001b[0m\n\u001b[1;32m      6\u001b[0m \u001b[0mexample\u001b[0m \u001b[0;34m=\u001b[0m \u001b[0mnp\u001b[0m\u001b[0;34m.\u001b[0m\u001b[0marray\u001b[0m\u001b[0;34m(\u001b[0m\u001b[0;34m[\u001b[0m\u001b[0;34m[\u001b[0m\u001b[0;36m5\u001b[0m\u001b[0;34m,\u001b[0m \u001b[0;36m4\u001b[0m\u001b[0;34m,\u001b[0m \u001b[0;36m1\u001b[0m\u001b[0;34m]\u001b[0m\u001b[0;34m,\u001b[0m \u001b[0;34m[\u001b[0m\u001b[0;36m7\u001b[0m\u001b[0;34m,\u001b[0m \u001b[0;36m8\u001b[0m\u001b[0;34m,\u001b[0m \u001b[0;36m12\u001b[0m\u001b[0;34m]\u001b[0m\u001b[0;34m,\u001b[0m \u001b[0;34m[\u001b[0m\u001b[0;36m10\u001b[0m\u001b[0;34m,\u001b[0m \u001b[0;36m45\u001b[0m\u001b[0;34m,\u001b[0m \u001b[0;36m24\u001b[0m\u001b[0;34m]\u001b[0m\u001b[0;34m]\u001b[0m\u001b[0;34m)\u001b[0m\u001b[0;34m\u001b[0m\u001b[0m\n",
      "\u001b[0;32m~/anaconda3/lib/python3.6/site-packages/numpy/core/numeric.py\u001b[0m in \u001b[0;36mallclose\u001b[0;34m(a, b, rtol, atol, equal_nan)\u001b[0m\n\u001b[1;32m   2254\u001b[0m \u001b[0;34m\u001b[0m\u001b[0m\n\u001b[1;32m   2255\u001b[0m     \"\"\"\n\u001b[0;32m-> 2256\u001b[0;31m     \u001b[0mres\u001b[0m \u001b[0;34m=\u001b[0m \u001b[0mall\u001b[0m\u001b[0;34m(\u001b[0m\u001b[0misclose\u001b[0m\u001b[0;34m(\u001b[0m\u001b[0ma\u001b[0m\u001b[0;34m,\u001b[0m \u001b[0mb\u001b[0m\u001b[0;34m,\u001b[0m \u001b[0mrtol\u001b[0m\u001b[0;34m=\u001b[0m\u001b[0mrtol\u001b[0m\u001b[0;34m,\u001b[0m \u001b[0matol\u001b[0m\u001b[0;34m=\u001b[0m\u001b[0matol\u001b[0m\u001b[0;34m,\u001b[0m \u001b[0mequal_nan\u001b[0m\u001b[0;34m=\u001b[0m\u001b[0mequal_nan\u001b[0m\u001b[0;34m)\u001b[0m\u001b[0;34m)\u001b[0m\u001b[0;34m\u001b[0m\u001b[0m\n\u001b[0m\u001b[1;32m   2257\u001b[0m     \u001b[0;32mreturn\u001b[0m \u001b[0mbool\u001b[0m\u001b[0;34m(\u001b[0m\u001b[0mres\u001b[0m\u001b[0;34m)\u001b[0m\u001b[0;34m\u001b[0m\u001b[0m\n\u001b[1;32m   2258\u001b[0m \u001b[0;34m\u001b[0m\u001b[0m\n",
      "\u001b[0;32m~/anaconda3/lib/python3.6/site-packages/numpy/core/numeric.py\u001b[0m in \u001b[0;36misclose\u001b[0;34m(a, b, rtol, atol, equal_nan)\u001b[0m\n\u001b[1;32m   2330\u001b[0m     \u001b[0my\u001b[0m \u001b[0;34m=\u001b[0m \u001b[0marray\u001b[0m\u001b[0;34m(\u001b[0m\u001b[0my\u001b[0m\u001b[0;34m,\u001b[0m \u001b[0mdtype\u001b[0m\u001b[0;34m=\u001b[0m\u001b[0mdt\u001b[0m\u001b[0;34m,\u001b[0m \u001b[0mcopy\u001b[0m\u001b[0;34m=\u001b[0m\u001b[0;32mFalse\u001b[0m\u001b[0;34m,\u001b[0m \u001b[0msubok\u001b[0m\u001b[0;34m=\u001b[0m\u001b[0;32mTrue\u001b[0m\u001b[0;34m)\u001b[0m\u001b[0;34m\u001b[0m\u001b[0m\n\u001b[1;32m   2331\u001b[0m \u001b[0;34m\u001b[0m\u001b[0m\n\u001b[0;32m-> 2332\u001b[0;31m     \u001b[0mxfin\u001b[0m \u001b[0;34m=\u001b[0m \u001b[0misfinite\u001b[0m\u001b[0;34m(\u001b[0m\u001b[0mx\u001b[0m\u001b[0;34m)\u001b[0m\u001b[0;34m\u001b[0m\u001b[0m\n\u001b[0m\u001b[1;32m   2333\u001b[0m     \u001b[0myfin\u001b[0m \u001b[0;34m=\u001b[0m \u001b[0misfinite\u001b[0m\u001b[0;34m(\u001b[0m\u001b[0my\u001b[0m\u001b[0;34m)\u001b[0m\u001b[0;34m\u001b[0m\u001b[0m\n\u001b[1;32m   2334\u001b[0m     \u001b[0;32mif\u001b[0m \u001b[0mall\u001b[0m\u001b[0;34m(\u001b[0m\u001b[0mxfin\u001b[0m\u001b[0;34m)\u001b[0m \u001b[0;32mand\u001b[0m \u001b[0mall\u001b[0m\u001b[0;34m(\u001b[0m\u001b[0myfin\u001b[0m\u001b[0;34m)\u001b[0m\u001b[0;34m:\u001b[0m\u001b[0;34m\u001b[0m\u001b[0m\n",
      "\u001b[0;31mTypeError\u001b[0m: ufunc 'isfinite' not supported for the input types, and the inputs could not be safely coerced to any supported types according to the casting rule ''safe''"
     ]
    }
   ],
   "source": [
    "example = np.array([[5, 4], [7, 8]])\n",
    "sample_vec = np.array([1, 2])\n",
    "\n",
    "assert np.allclose(cramer_solver(example, sample_vec), np.array([0.0, 0.25]))\n",
    "\n",
    "example = np.array([[5, 4, 1], [7, 8, 12], [10, 45, 24]])\n",
    "sample_vec = np.array([1, 2, 123])\n",
    "\n",
    "assert np.allclose(cramer_solver(example, sample_vec), np.array([-2.63406011, -3.74012964, -0.79021803]))"
   ]
  },
  {
   "cell_type": "code",
   "execution_count": 43,
   "metadata": {},
   "outputs": [],
   "source": [
    "#Быстро сделали. Давайте сделаем решение методом Гаусса. Задание со звездочкой, я за 5 минут не смог написать"
   ]
  },
  {
   "cell_type": "markdown",
   "metadata": {},
   "source": [
    "# Pandas"
   ]
  },
  {
   "cell_type": "code",
   "execution_count": 47,
   "metadata": {},
   "outputs": [],
   "source": [
    "import pandas as pd"
   ]
  },
  {
   "cell_type": "code",
   "execution_count": 48,
   "metadata": {},
   "outputs": [
    {
     "data": {
      "text/html": [
       "<div>\n",
       "<style scoped>\n",
       "    .dataframe tbody tr th:only-of-type {\n",
       "        vertical-align: middle;\n",
       "    }\n",
       "\n",
       "    .dataframe tbody tr th {\n",
       "        vertical-align: top;\n",
       "    }\n",
       "\n",
       "    .dataframe thead th {\n",
       "        text-align: right;\n",
       "    }\n",
       "</style>\n",
       "<table border=\"1\" class=\"dataframe\">\n",
       "  <thead>\n",
       "    <tr style=\"text-align: right;\">\n",
       "      <th></th>\n",
       "      <th>pclass</th>\n",
       "      <th>survived</th>\n",
       "      <th>name</th>\n",
       "      <th>sex</th>\n",
       "      <th>age</th>\n",
       "      <th>sibsp</th>\n",
       "      <th>parch</th>\n",
       "      <th>ticket</th>\n",
       "      <th>fare</th>\n",
       "      <th>cabin</th>\n",
       "      <th>embarked</th>\n",
       "      <th>boat</th>\n",
       "      <th>body</th>\n",
       "      <th>home.dest</th>\n",
       "    </tr>\n",
       "  </thead>\n",
       "  <tbody>\n",
       "    <tr>\n",
       "      <th>0</th>\n",
       "      <td>1</td>\n",
       "      <td>1</td>\n",
       "      <td>Allen, Miss. Elisabeth Walton</td>\n",
       "      <td>female</td>\n",
       "      <td>29.0000</td>\n",
       "      <td>0</td>\n",
       "      <td>0</td>\n",
       "      <td>24160</td>\n",
       "      <td>211.3375</td>\n",
       "      <td>B5</td>\n",
       "      <td>S</td>\n",
       "      <td>2</td>\n",
       "      <td>NaN</td>\n",
       "      <td>St Louis, MO</td>\n",
       "    </tr>\n",
       "    <tr>\n",
       "      <th>1</th>\n",
       "      <td>1</td>\n",
       "      <td>1</td>\n",
       "      <td>Allison, Master. Hudson Trevor</td>\n",
       "      <td>male</td>\n",
       "      <td>0.9167</td>\n",
       "      <td>1</td>\n",
       "      <td>2</td>\n",
       "      <td>113781</td>\n",
       "      <td>151.5500</td>\n",
       "      <td>C22 C26</td>\n",
       "      <td>S</td>\n",
       "      <td>11</td>\n",
       "      <td>NaN</td>\n",
       "      <td>Montreal, PQ / Chesterville, ON</td>\n",
       "    </tr>\n",
       "    <tr>\n",
       "      <th>2</th>\n",
       "      <td>1</td>\n",
       "      <td>0</td>\n",
       "      <td>Allison, Miss. Helen Loraine</td>\n",
       "      <td>female</td>\n",
       "      <td>2.0000</td>\n",
       "      <td>1</td>\n",
       "      <td>2</td>\n",
       "      <td>113781</td>\n",
       "      <td>151.5500</td>\n",
       "      <td>C22 C26</td>\n",
       "      <td>S</td>\n",
       "      <td>NaN</td>\n",
       "      <td>NaN</td>\n",
       "      <td>Montreal, PQ / Chesterville, ON</td>\n",
       "    </tr>\n",
       "    <tr>\n",
       "      <th>3</th>\n",
       "      <td>1</td>\n",
       "      <td>0</td>\n",
       "      <td>Allison, Mr. Hudson Joshua Creighton</td>\n",
       "      <td>male</td>\n",
       "      <td>30.0000</td>\n",
       "      <td>1</td>\n",
       "      <td>2</td>\n",
       "      <td>113781</td>\n",
       "      <td>151.5500</td>\n",
       "      <td>C22 C26</td>\n",
       "      <td>S</td>\n",
       "      <td>NaN</td>\n",
       "      <td>135.0</td>\n",
       "      <td>Montreal, PQ / Chesterville, ON</td>\n",
       "    </tr>\n",
       "    <tr>\n",
       "      <th>4</th>\n",
       "      <td>1</td>\n",
       "      <td>0</td>\n",
       "      <td>Allison, Mrs. Hudson J C (Bessie Waldo Daniels)</td>\n",
       "      <td>female</td>\n",
       "      <td>25.0000</td>\n",
       "      <td>1</td>\n",
       "      <td>2</td>\n",
       "      <td>113781</td>\n",
       "      <td>151.5500</td>\n",
       "      <td>C22 C26</td>\n",
       "      <td>S</td>\n",
       "      <td>NaN</td>\n",
       "      <td>NaN</td>\n",
       "      <td>Montreal, PQ / Chesterville, ON</td>\n",
       "    </tr>\n",
       "  </tbody>\n",
       "</table>\n",
       "</div>"
      ],
      "text/plain": [
       "   pclass  survived                                             name     sex  \\\n",
       "0       1         1                    Allen, Miss. Elisabeth Walton  female   \n",
       "1       1         1                   Allison, Master. Hudson Trevor    male   \n",
       "2       1         0                     Allison, Miss. Helen Loraine  female   \n",
       "3       1         0             Allison, Mr. Hudson Joshua Creighton    male   \n",
       "4       1         0  Allison, Mrs. Hudson J C (Bessie Waldo Daniels)  female   \n",
       "\n",
       "       age  sibsp  parch  ticket      fare    cabin embarked boat   body  \\\n",
       "0  29.0000      0      0   24160  211.3375       B5        S    2    NaN   \n",
       "1   0.9167      1      2  113781  151.5500  C22 C26        S   11    NaN   \n",
       "2   2.0000      1      2  113781  151.5500  C22 C26        S  NaN    NaN   \n",
       "3  30.0000      1      2  113781  151.5500  C22 C26        S  NaN  135.0   \n",
       "4  25.0000      1      2  113781  151.5500  C22 C26        S  NaN    NaN   \n",
       "\n",
       "                         home.dest  \n",
       "0                     St Louis, MO  \n",
       "1  Montreal, PQ / Chesterville, ON  \n",
       "2  Montreal, PQ / Chesterville, ON  \n",
       "3  Montreal, PQ / Chesterville, ON  \n",
       "4  Montreal, PQ / Chesterville, ON  "
      ]
     },
     "execution_count": 48,
     "metadata": {},
     "output_type": "execute_result"
    }
   ],
   "source": [
    "#Загрузим данные\n",
    "titanik_excel = pd.read_excel(\"titanic3.xls\")\n",
    "\n",
    "#dataframe.head(#observ) позволяет взглянуть на первые #observ данных, по умолчанию 5\n",
    "titanik_excel.head()"
   ]
  },
  {
   "cell_type": "code",
   "execution_count": null,
   "metadata": {},
   "outputs": [],
   "source": [
    "#TODO Загрузите данные из .tsv файла (пример в слайдах!). Посмотрите на перввые 7 строк\n",
    "titanik_csv = None"
   ]
  },
  {
   "cell_type": "code",
   "execution_count": null,
   "metadata": {},
   "outputs": [],
   "source": [
    "#совместная работа\n",
    "#1. Кого больше мужчин или женщин?\n",
    "#2. Отделить первую часть имени (до запятой)\n",
    "#3. Узнать, сколько пропусков в колонке body\n",
    "#4. Удалить колонку body\n",
    "#5. Обращение к строке\n",
    "#6. Разбить возраст на бины\n",
    "#7. Входит ли Miss в name\n",
    "#8. Срез по числу parch (сравнение)\n",
    "#9. Hist по parch"
   ]
  },
  {
   "cell_type": "markdown",
   "metadata": {},
   "source": [
    "# Flask"
   ]
  },
  {
   "cell_type": "code",
   "execution_count": null,
   "metadata": {},
   "outputs": [],
   "source": [
    "%%writefile simple_flask.py\n",
    "\n",
    "from flask import Flask\n",
    "app = Flask(__name__)\n",
    " \n",
    "@app.route(\"/\")\n",
    "def hello():\n",
    "    return \"Hello World!\"\n",
    " \n",
    "if __name__ == \"__main__\":\n",
    "    app.run()\n",
    "    \n",
    "#Теперь нужно запустить, через python simple_flask.py"
   ]
  },
  {
   "cell_type": "code",
   "execution_count": null,
   "metadata": {},
   "outputs": [],
   "source": [
    "%%writefile  simple_flask.py\n",
    "\n",
    "from flask import Flask\n",
    "app = Flask(__name__)\n",
    " \n",
    "@app.route(\"/\")\n",
    "def hello():\n",
    "    return \"Hello World!\"\n",
    "\n",
    "@app.route(\"/members/<string:name>/\")\n",
    "def getMember(name):\n",
    "    return name\n",
    "\n",
    "if __name__ == \"__main__\":\n",
    "    app.run()\n",
    "#Теперь нужно запустить, через python simple_flask.py"
   ]
  },
  {
   "cell_type": "code",
   "execution_count": null,
   "metadata": {},
   "outputs": [],
   "source": [
    "#TODO написать сервер, который получает запрос /set_member/name, а по запросу /get_members возвращает всех\n",
    "#memberов через запятую"
   ]
  }
 ],
 "metadata": {
  "anaconda-cloud": {},
  "kernelspec": {
   "display_name": "Python 3",
   "language": "python",
   "name": "python3"
  },
  "language_info": {
   "codemirror_mode": {
    "name": "ipython",
    "version": 3
   },
   "file_extension": ".py",
   "mimetype": "text/x-python",
   "name": "python",
   "nbconvert_exporter": "python",
   "pygments_lexer": "ipython3",
   "version": "3.6.5"
  }
 },
 "nbformat": 4,
 "nbformat_minor": 2
}
